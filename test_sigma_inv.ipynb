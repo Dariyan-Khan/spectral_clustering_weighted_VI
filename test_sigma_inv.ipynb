{
 "cells": [
  {
   "cell_type": "code",
   "execution_count": 3,
   "metadata": {},
   "outputs": [],
   "source": [
    "from sigma_inv import sigma_inv_approx\n",
    "from dataset import Dataset\n",
    "\n",
    "\n",
    "\n"
   ]
  },
  {
   "cell_type": "code",
   "execution_count": 27,
   "metadata": {},
   "outputs": [],
   "source": [
    "import numpy as np\n",
    "\n",
    "μ_0 = np.array([0.75,0.25])\n",
    "cov_0 = np.array([[0.1, 0.05], [0.05, 0.1]])\n",
    "\n",
    "μ_1 = np.array([0.25, 0.75])\n",
    "cov_1 = np.array([[0.01, 0.005], [0.005, 0.01]])\n",
    "\n",
    "gamma_prior_cov = np.array([0.1])\n",
    "\n",
    "ν = cov_0[1,1]\n",
    "\n",
    "\n",
    "# Number of samples to generate\n",
    "n_samples = 1000\n",
    "\n",
    "# Generate samples alternately\n",
    "samples = np.zeros((n_samples, 2))\n",
    "for i in range(n_samples):\n",
    "    if i % 2 == 0:\n",
    "        samples[i] = np.random.multivariate_normal(μ_0, cov_0)\n",
    "    else:\n",
    "        samples[i] = np.random.multivariate_normal(μ_1, cov_1)\n",
    "\n",
    "\n",
    "ds = Dataset(samples, emb_dim=2, N=1000, K=2)\n",
    "\n",
    "for i in range(0,len(ds.z_vars)):\n",
    "    ds.z_vars[i].probs = [1.0, 0.0] if i % 2 == 0 else [0.0, 1.0]\n",
    "\n",
    "assumed_dof = 5 #= d+3\n",
    "\n",
    "ds.means_vars[0].prior_cov = cov_0\n",
    "ds.means_vars[0].mean = μ_0\n",
    "ds.means_vars[0].cov = cov_0\n",
    "\n",
    "ds.means_vars[1].prior_cov = cov_1\n",
    "ds.means_vars[1].mean = μ_1\n",
    "ds.means_vars[1].cov = cov_1\n",
    "\n",
    "\n",
    "ds.gamma_vars[0].prior_cov = np.array([gamma_prior_cov / np.sqrt(ν)])\n",
    "ds.gamma_vars[0].mean = np.array([cov_0[0, 1]]) / np.sqrt(ν)\n",
    "ds.gamma_vars[0].cov = np.array([gamma_prior_cov / ν])\n",
    "ds.gamma_vars[0].nu = cov_0[-1,-1]\n",
    "\n",
    "ds.gamma_vars[1].prior_cov = np.array([gamma_prior_cov / np.sqrt(ν)])\n",
    "ds.gamma_vars[1].mean = np.array([cov_1[0, 1]]) / np.sqrt(ν)\n",
    "ds.gamma_vars[1].cov = np.array([gamma_prior_cov / ν])\n",
    "ds.gamma_vars[1].nu = cov_1[-1,-1]\n",
    "\n",
    "ds.sigma_star_vars[0].prior_scale = np.array([cov_0[0,0] * (assumed_dof - ds.d)])\n",
    "ds.sigma_star_vars[0].dof = 5\n",
    "ds.sigma_star_vars[0].prior_dof = 5\n",
    "ds.sigma_star_vars[0].scale = np.array([cov_0[0,0] - ds.gamma_vars[0].mean ** 2])\n",
    "ds.sigma_star_vars[0].nu = cov_1[-1,-1]                \n",
    "\n",
    "\n",
    "ds.sigma_star_vars[1].prior_scale = np.array([cov_1[0,0] - ds.gamma_vars[0].mean ** 2])\n",
    "ds.sigma_star_vars[1].dof = 5\n",
    "ds.sigma_star_vars[1].prior_dof = 5\n",
    "ds.sigma_star_vars[1].scale = np.array([[cov_1[0,0] * (assumed_dof - ds.d)]])\n",
    "ds.sigma_star_vars[1].nu = cov_1[-1,-1]"
   ]
  },
  {
   "cell_type": "code",
   "execution_count": 36,
   "metadata": {},
   "outputs": [
    {
     "data": {
      "text/plain": [
       "array([[-6.53687500e-02,  9.48683298e-04],\n",
       "       [ 9.48683298e-04,  2.98035000e+00]])"
      ]
     },
     "execution_count": 36,
     "metadata": {},
     "output_type": "execute_result"
    }
   ],
   "source": [
    "sig_star_0 = ds.sigma_star_vars[0]\n",
    "gamma_0 = ds.gamma_vars[0]\n",
    "\n",
    "sigma_inv_approx(sig_star_0, gamma_0)\n"
   ]
  },
  {
   "cell_type": "code",
   "execution_count": 34,
   "metadata": {},
   "outputs": [
    {
     "name": "stdout",
     "output_type": "stream",
     "text": [
      "==>> cov_0: [[0.1  0.05]\n",
      " [0.05 0.1 ]]\n",
      "==>> cov_0_inv: [[13.33333333 -6.66666667]\n",
      " [-6.66666667 13.33333333]]\n"
     ]
    }
   ],
   "source": [
    "print(f\"==>> cov_0: {cov_0}\")\n",
    "\n",
    "cov_0_inv = np.linalg.inv(cov_0)\n",
    "\n",
    "print(f\"==>> cov_0_inv: {cov_0_inv}\")"
   ]
  },
  {
   "cell_type": "code",
   "execution_count": null,
   "metadata": {},
   "outputs": [],
   "source": []
  }
 ],
 "metadata": {
  "kernelspec": {
   "display_name": "vi_venv",
   "language": "python",
   "name": "python3"
  },
  "language_info": {
   "codemirror_mode": {
    "name": "ipython",
    "version": 3
   },
   "file_extension": ".py",
   "mimetype": "text/x-python",
   "name": "python",
   "nbconvert_exporter": "python",
   "pygments_lexer": "ipython3",
   "version": "3.12.0"
  }
 },
 "nbformat": 4,
 "nbformat_minor": 2
}
