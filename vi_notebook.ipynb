{
 "cells": [
  {
   "cell_type": "code",
   "execution_count": 1,
   "metadata": {},
   "outputs": [],
   "source": [
    "from dataset import Dataset, Synthetic_data\n",
    "\n",
    "import numpy as np\n",
    "from scipy.linalg import orthogonal_procrustes\n",
    "\n",
    "from sklearn.cluster import KMeans\n",
    "from sklearn.metrics import silhouette_score\n",
    "\n",
    "from tqdm import tqdm\n",
    "\n",
    "from mu_dist import Mu\n",
    "from sigma_dist import Sigma_Star\n",
    "from gamma_dist import Gamma\n",
    "\n",
    "from r_dist import R\n",
    "from z_dist import Z\n",
    "from phi_dist import Phi\n",
    "\n",
    "from dataset_initialisation import GMM_Init\n",
    "\n",
    "from scipy.stats import beta"
   ]
  },
  {
   "cell_type": "code",
   "execution_count": 2,
   "metadata": {},
   "outputs": [],
   "source": [
    "μ_1 = np.array([0.5,0.25,0.25])\n",
    "μ_2 = np.array([0.4,0.15,0.45])\n",
    "\n",
    "    # [0.8018,0.2673,0.5345] \n",
    "    # [0.2673,0.8018,0.5345]\n",
    "α = 2\n",
    "β = 2\n",
    "prior = lambda : beta.rvs(α, β)"
   ]
  },
  {
   "cell_type": "code",
   "execution_count": 3,
   "metadata": {},
   "outputs": [],
   "source": [
    "from dataset_initialisation import GMM_Init"
   ]
  },
  {
   "cell_type": "code",
   "execution_count": 4,
   "metadata": {},
   "outputs": [],
   "source": [
    "ds = Synthetic_data(μ_1, μ_2, prior, N_t=1000)"
   ]
  },
  {
   "cell_type": "code",
   "execution_count": 9,
   "metadata": {},
   "outputs": [
    {
     "name": "stdout",
     "output_type": "stream",
     "text": [
      "[[0.15157955 0.07850044 0.12538365]\n",
      " [0.3157091  0.13092938 0.22855135]] cluster centres\n",
      "self.gamma_estimates:  [[ 0.01513975  0.01279655]\n",
      " [-0.07422802 -0.0333508 ]]\n",
      "scale_mat gmm [[ 0.03210903 -0.01228337]\n",
      " [-0.01228337  0.05878728]]\n",
      "dof gmm 6\n",
      "mu_cov 0 det: -2.5332852358956764e-39\n",
      "scale_mat 0 det: 0.0017367213178696881\n",
      "gamma_cov 0 det: 0.0\n",
      "gamma cov: [[0.0039933  0.00206204]\n",
      " [0.00206204 0.00106479]]\n",
      "mu_cov 1 det: -2.5332852358956764e-39\n",
      "scale_mat 1 det: 0.0017367213178696881\n",
      "gamma_cov 1 det: 0.0\n",
      "gamma cov: [[0.0039933  0.00206204]\n",
      " [0.00206204 0.00106479]]\n"
     ]
    }
   ],
   "source": [
    "ds.gaussian_mm_init()"
   ]
  },
  {
   "cell_type": "code",
   "execution_count": 5,
   "metadata": {},
   "outputs": [],
   "source": [
    "def print_attributes(obj):\n",
    "    attributes = dir(obj)\n",
    "    attributes = [attr for attr in attributes if not attr.startswith('__') and not callable(getattr(obj, attr))]\n",
    "    for attr in attributes:\n",
    "        value = getattr(obj, attr)\n",
    "        print(f\"{attr}: {value}\")"
   ]
  },
  {
   "cell_type": "markdown",
   "metadata": {},
   "source": [
    "## μ variables"
   ]
  },
  {
   "cell_type": "code",
   "execution_count": 12,
   "metadata": {},
   "outputs": [
    {
     "name": "stdout",
     "output_type": "stream",
     "text": [
      "cov: [[0.01346925 0.00430257 0.00846643]\n",
      " [0.00430257 0.0013744  0.00270449]\n",
      " [0.00846643 0.00270449 0.00532179]]\n",
      "d: 3\n",
      "k: 0\n",
      "mean: [0.15157955 0.07850044 0.12538365]\n",
      "prior_cov: [[0.01346925 0.00430257 0.00846643]\n",
      " [0.00430257 0.0013744  0.00270449]\n",
      " [0.00846643 0.00270449 0.00532179]]\n",
      "prior_mean: [0. 0. 0.]\n",
      "\n",
      "cov matrix det: -2.5332852358956764e-39\n"
     ]
    }
   ],
   "source": [
    "print_attributes(ds.means_vars[0])\n",
    "print()\n",
    "print(\"cov matrix det:\" , np.linalg.det(ds.means_vars[0].cov))"
   ]
  },
  {
   "cell_type": "code",
   "execution_count": 14,
   "metadata": {},
   "outputs": [
    {
     "name": "stdout",
     "output_type": "stream",
     "text": [
      "cov: [[0.01346925 0.00430257 0.00846643]\n",
      " [0.00430257 0.0013744  0.00270449]\n",
      " [0.00846643 0.00270449 0.00532179]]\n",
      "d: 3\n",
      "k: 1\n",
      "mean: [0.3157091  0.13092938 0.22855135]\n",
      "prior_cov: [[0.01346925 0.00430257 0.00846643]\n",
      " [0.00430257 0.0013744  0.00270449]\n",
      " [0.00846643 0.00270449 0.00532179]]\n",
      "prior_mean: [0. 0. 0.]\n",
      "\n",
      "cov matrix det: -2.5332852358956764e-39\n"
     ]
    }
   ],
   "source": [
    "print_attributes(ds.means_vars[1])\n",
    "print()\n",
    "print(\"cov matrix det:\" , np.linalg.det(ds.means_vars[0].cov))"
   ]
  },
  {
   "cell_type": "markdown",
   "metadata": {},
   "source": [
    "## γ variables"
   ]
  },
  {
   "cell_type": "code",
   "execution_count": 15,
   "metadata": {},
   "outputs": [
    {
     "name": "stdout",
     "output_type": "stream",
     "text": [
      "cov: [[0.0039933  0.00206204]\n",
      " [0.00206204 0.00106479]]\n",
      "d: 3\n",
      "dim: 2\n",
      "k: 0\n",
      "mean: [0.01513975 0.01279655]\n",
      "prior_cov: [[0.0039933  0.00206204]\n",
      " [0.00206204 0.00106479]]\n",
      "\n",
      "cov matrix det: 0.0\n"
     ]
    }
   ],
   "source": [
    "print_attributes(ds.gamma_vars[0])\n",
    "print()\n",
    "print(\"cov matrix det:\" , np.linalg.det(ds.gamma_vars[0].cov))"
   ]
  },
  {
   "cell_type": "code",
   "execution_count": 16,
   "metadata": {},
   "outputs": [
    {
     "name": "stdout",
     "output_type": "stream",
     "text": [
      "cov: [[0.0039933  0.00206204]\n",
      " [0.00206204 0.00106479]]\n",
      "d: 3\n",
      "dim: 2\n",
      "k: 1\n",
      "mean: [-0.07422802 -0.0333508 ]\n",
      "prior_cov: [[0.0039933  0.00206204]\n",
      " [0.00206204 0.00106479]]\n",
      "\n",
      "cov matrix det: 0.0\n"
     ]
    }
   ],
   "source": [
    "print_attributes(ds.gamma_vars[1])\n",
    "print()\n",
    "print(\"cov matrix det:\" , np.linalg.det(ds.gamma_vars[1].cov))"
   ]
  },
  {
   "cell_type": "markdown",
   "metadata": {},
   "source": [
    "## sigma star variables"
   ]
  },
  {
   "cell_type": "code",
   "execution_count": 19,
   "metadata": {},
   "outputs": [
    {
     "name": "stdout",
     "output_type": "stream",
     "text": [
      "d: 3\n",
      "dim: 2\n",
      "dof: 6\n",
      "first_moment: None\n",
      "k: 0\n",
      "prior_dof: 6\n",
      "prior_scale: [[ 0.03210903 -0.01228337]\n",
      " [-0.01228337  0.05878728]]\n",
      "scale: [[0.01961113 0.00189058]\n",
      " [0.00189058 0.02104674]]\n",
      "sigma_star_scale_det: 0.00040917606877306176\n"
     ]
    }
   ],
   "source": [
    "print_attributes(ds.sigma_star_vars[0])\n",
    "\n",
    "print(\"sigma_star_scale_det:\", np.linalg.det(ds.sigma_star_vars[0].scale))"
   ]
  },
  {
   "cell_type": "code",
   "execution_count": 20,
   "metadata": {},
   "outputs": [
    {
     "name": "stdout",
     "output_type": "stream",
     "text": [
      "d: 3\n",
      "dim: 2\n",
      "dof: 6\n",
      "first_moment: None\n",
      "k: 1\n",
      "prior_dof: 6\n",
      "prior_scale: [[ 0.03210903 -0.01228337]\n",
      " [-0.01228337  0.05878728]]\n",
      "scale: [[ 0.04460693 -0.02645732]\n",
      " [-0.02645732  0.09652781]]\n",
      "sigma_star_scale_det: 0.0036058196618045115\n"
     ]
    }
   ],
   "source": [
    "print_attributes(ds.sigma_star_vars[1])\n",
    "\n",
    "print(\"sigma_star_scale_det:\", np.linalg.det(ds.sigma_star_vars[1].scale))\n"
   ]
  },
  {
   "cell_type": "code",
   "execution_count": 21,
   "metadata": {},
   "outputs": [
    {
     "name": "stdout",
     "output_type": "stream",
     "text": [
      "[[0.14944866 0.07575788 0.1202365 ]\n",
      " [0.309299   0.13102468 0.22847952]] cluster centres\n",
      "self.gamma_estimates:  [[ 0.01478469  0.01209391]\n",
      " [-0.07203667 -0.03300367]]\n",
      "scale_mat gmm [[ 0.03249915 -0.01175278]\n",
      " [-0.01175278  0.05658144]]\n",
      "dof gmm 6\n",
      "mu_cov 0 det: 0.0\n",
      "scale_mat 0 det: 0.0017007209536410545\n",
      "gamma_cov 0 det: -8.172659755515827e-22\n",
      "gamma cov: [[0.00376897 0.00195772]\n",
      " [0.00195772 0.0010169 ]]\n",
      "mu_cov 1 det: 0.0\n",
      "scale_mat 1 det: 0.0017007209536410545\n",
      "gamma_cov 1 det: -8.172659755515827e-22\n",
      "gamma cov: [[0.00376897 0.00195772]\n",
      " [0.00195772 0.0010169 ]]\n"
     ]
    },
    {
     "name": "stderr",
     "output_type": "stream",
     "text": [
      "Performing VI:   0%|          | 0/1000 [00:00<?, ?it/s]\n"
     ]
    },
    {
     "ename": "LinAlgError",
     "evalue": "Singular matrix",
     "output_type": "error",
     "traceback": [
      "\u001b[0;31m---------------------------------------------------------------------------\u001b[0m",
      "\u001b[0;31mLinAlgError\u001b[0m                               Traceback (most recent call last)",
      "Cell \u001b[0;32mIn[21], line 1\u001b[0m\n\u001b[0;32m----> 1\u001b[0m \u001b[43mds\u001b[49m\u001b[38;5;241;43m.\u001b[39;49m\u001b[43mdataset_vi\u001b[49m\u001b[43m(\u001b[49m\u001b[43m)\u001b[49m\n",
      "File \u001b[0;32m~/Library/CloudStorage/OneDrive-ImperialCollegeLondon/Work (one drive)/Imperial/year_4/M4R/weighted_VI_code/spectral_clustering_weighted_VI/dataset.py:129\u001b[0m, in \u001b[0;36mdataset_vi\u001b[0;34m(self, max_iter)\u001b[0m\n\u001b[1;32m    125\u001b[0m \u001b[38;5;28mself\u001b[39m\u001b[38;5;241m.\u001b[39mgaussian_mm_init() \u001b[38;5;66;03m# initialize the means, sigma_star and gamma distributions\u001b[39;00m\n\u001b[1;32m    127\u001b[0m \u001b[38;5;28;01mfor\u001b[39;00m _ \u001b[38;5;129;01min\u001b[39;00m tqdm(\u001b[38;5;28mrange\u001b[39m(max_iter), desc\u001b[38;5;241m=\u001b[39m\u001b[38;5;124m\"\u001b[39m\u001b[38;5;124mPerforming VI\u001b[39m\u001b[38;5;124m\"\u001b[39m):\n\u001b[0;32m--> 129\u001b[0m     \u001b[38;5;28;01mfor\u001b[39;00m k \u001b[38;5;129;01min\u001b[39;00m \u001b[38;5;28mrange\u001b[39m(\u001b[38;5;28mself\u001b[39m\u001b[38;5;241m.\u001b[39mK):\n\u001b[1;32m    130\u001b[0m         \u001b[38;5;28mself\u001b[39m\u001b[38;5;241m.\u001b[39mmeans_vars[k]\u001b[38;5;241m.\u001b[39mvi(\u001b[38;5;28mself\u001b[39m\u001b[38;5;241m.\u001b[39mz_vars, \u001b[38;5;28mself\u001b[39m\u001b[38;5;241m.\u001b[39mr_vars, \u001b[38;5;28mself\u001b[39m\u001b[38;5;241m.\u001b[39msigma_star_vars[k], \u001b[38;5;28mself\u001b[39m\u001b[38;5;241m.\u001b[39mgamma_vars[k], \u001b[38;5;28mself\u001b[39m)\n\u001b[1;32m    131\u001b[0m         \u001b[38;5;28mself\u001b[39m\u001b[38;5;241m.\u001b[39msigma_star_vars[k]\u001b[38;5;241m.\u001b[39mvi(\u001b[38;5;28mself\u001b[39m\u001b[38;5;241m.\u001b[39mz_vars, \u001b[38;5;28mself\u001b[39m\u001b[38;5;241m.\u001b[39mr_vars, \u001b[38;5;28mself\u001b[39m\u001b[38;5;241m.\u001b[39mmeans_vars[k], \u001b[38;5;28mself\u001b[39m\u001b[38;5;241m.\u001b[39mgamma_vars[k], \u001b[38;5;28mself\u001b[39m)\n",
      "File \u001b[0;32m~/Library/CloudStorage/OneDrive-ImperialCollegeLondon/Work (one drive)/Imperial/year_4/M4R/weighted_VI_code/spectral_clustering_weighted_VI/mu_dist.py:41\u001b[0m, in \u001b[0;36mMu.vi\u001b[0;34m(self, z_vi_list, r_vi_list, sigma_star_k, γ_k, datapoints)\u001b[0m\n\u001b[1;32m     37\u001b[0m     B \u001b[38;5;241m+\u001b[39m\u001b[38;5;241m=\u001b[39m r_vi_list[i]\u001b[38;5;241m.\u001b[39mfirst_moment \u001b[38;5;241m*\u001b[39m z\u001b[38;5;241m.\u001b[39mprobs[\u001b[38;5;28mself\u001b[39m\u001b[38;5;241m.\u001b[39mk] \u001b[38;5;241m*\u001b[39m data\n\u001b[1;32m     39\u001b[0m \u001b[38;5;66;03m# print(\"curr sigma_star_k\", sigma_star_k)\u001b[39;00m\n\u001b[0;32m---> 41\u001b[0m A \u001b[38;5;241m=\u001b[39m sigma_inv_approx(sigma_star_k, γ_k)\u001b[38;5;241m*\u001b[39mn_k \u001b[38;5;241m+\u001b[39m \u001b[43mnp\u001b[49m\u001b[38;5;241;43m.\u001b[39;49m\u001b[43mlinalg\u001b[49m\u001b[38;5;241;43m.\u001b[39;49m\u001b[43minv\u001b[49m\u001b[43m(\u001b[49m\u001b[38;5;28;43mself\u001b[39;49m\u001b[38;5;241;43m.\u001b[39;49m\u001b[43mprior_cov\u001b[49m\u001b[43m)\u001b[49m\n\u001b[1;32m     42\u001b[0m A_inv \u001b[38;5;241m=\u001b[39m np\u001b[38;5;241m.\u001b[39mlinalg\u001b[38;5;241m.\u001b[39minv(A)\n\u001b[1;32m     45\u001b[0m \u001b[38;5;28mself\u001b[39m\u001b[38;5;241m.\u001b[39mmean \u001b[38;5;241m=\u001b[39m A_inv \u001b[38;5;241m@\u001b[39m B \n",
      "File \u001b[0;32m~/Library/CloudStorage/OneDrive-ImperialCollegeLondon/Work (one drive)/Imperial/year_4/M4R/weighted_VI_code/vi_venv/lib/python3.12/site-packages/numpy/linalg/linalg.py:561\u001b[0m, in \u001b[0;36minv\u001b[0;34m(a)\u001b[0m\n\u001b[1;32m    559\u001b[0m signature \u001b[38;5;241m=\u001b[39m \u001b[38;5;124m'\u001b[39m\u001b[38;5;124mD->D\u001b[39m\u001b[38;5;124m'\u001b[39m \u001b[38;5;28;01mif\u001b[39;00m isComplexType(t) \u001b[38;5;28;01melse\u001b[39;00m \u001b[38;5;124m'\u001b[39m\u001b[38;5;124md->d\u001b[39m\u001b[38;5;124m'\u001b[39m\n\u001b[1;32m    560\u001b[0m extobj \u001b[38;5;241m=\u001b[39m get_linalg_error_extobj(_raise_linalgerror_singular)\n\u001b[0;32m--> 561\u001b[0m ainv \u001b[38;5;241m=\u001b[39m \u001b[43m_umath_linalg\u001b[49m\u001b[38;5;241;43m.\u001b[39;49m\u001b[43minv\u001b[49m\u001b[43m(\u001b[49m\u001b[43ma\u001b[49m\u001b[43m,\u001b[49m\u001b[43m \u001b[49m\u001b[43msignature\u001b[49m\u001b[38;5;241;43m=\u001b[39;49m\u001b[43msignature\u001b[49m\u001b[43m,\u001b[49m\u001b[43m \u001b[49m\u001b[43mextobj\u001b[49m\u001b[38;5;241;43m=\u001b[39;49m\u001b[43mextobj\u001b[49m\u001b[43m)\u001b[49m\n\u001b[1;32m    562\u001b[0m \u001b[38;5;28;01mreturn\u001b[39;00m wrap(ainv\u001b[38;5;241m.\u001b[39mastype(result_t, copy\u001b[38;5;241m=\u001b[39m\u001b[38;5;28;01mFalse\u001b[39;00m))\n",
      "File \u001b[0;32m~/Library/CloudStorage/OneDrive-ImperialCollegeLondon/Work (one drive)/Imperial/year_4/M4R/weighted_VI_code/vi_venv/lib/python3.12/site-packages/numpy/linalg/linalg.py:112\u001b[0m, in \u001b[0;36m_raise_linalgerror_singular\u001b[0;34m(err, flag)\u001b[0m\n\u001b[1;32m    111\u001b[0m \u001b[38;5;28;01mdef\u001b[39;00m \u001b[38;5;21m_raise_linalgerror_singular\u001b[39m(err, flag):\n\u001b[0;32m--> 112\u001b[0m     \u001b[38;5;28;01mraise\u001b[39;00m LinAlgError(\u001b[38;5;124m\"\u001b[39m\u001b[38;5;124mSingular matrix\u001b[39m\u001b[38;5;124m\"\u001b[39m)\n",
      "\u001b[0;31mLinAlgError\u001b[0m: Singular matrix"
     ]
    }
   ],
   "source": [
    "ds.dataset_vi()"
   ]
  },
  {
   "cell_type": "code",
   "execution_count": null,
   "metadata": {},
   "outputs": [],
   "source": []
  }
 ],
 "metadata": {
  "kernelspec": {
   "display_name": "vi_venv",
   "language": "python",
   "name": "python3"
  },
  "language_info": {
   "codemirror_mode": {
    "name": "ipython",
    "version": 3
   },
   "file_extension": ".py",
   "mimetype": "text/x-python",
   "name": "python",
   "nbconvert_exporter": "python",
   "pygments_lexer": "ipython3",
   "version": "3.12.0"
  }
 },
 "nbformat": 4,
 "nbformat_minor": 2
}
