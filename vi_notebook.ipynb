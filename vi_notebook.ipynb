{
 "cells": [
  {
   "cell_type": "code",
   "execution_count": 1,
   "metadata": {},
   "outputs": [],
   "source": [
    "%load_ext autoreload\n",
    "%autoreload 1\n",
    "\n",
    "from dataset import Dataset, Synthetic_data\n",
    "\n",
    "import numpy as np\n",
    "from scipy.linalg import orthogonal_procrustes\n",
    "\n",
    "from sklearn.cluster import KMeans\n",
    "from sklearn.metrics import silhouette_score\n",
    "\n",
    "from tqdm import tqdm\n",
    "\n",
    "from mu_dist import Mu\n",
    "from sigma_dist import Sigma_Star\n",
    "from gamma_dist import Gamma\n",
    "\n",
    "from r_dist import R\n",
    "from z_dist import Z\n",
    "from phi_dist import Phi\n",
    "\n",
    "from dataset_initialisation import GMM_Init\n",
    "\n",
    "from scipy.stats import beta"
   ]
  },
  {
   "cell_type": "code",
   "execution_count": 2,
   "metadata": {},
   "outputs": [],
   "source": [
    "%aimport dataset\n",
    "%aimport dataset_initialisation"
   ]
  },
  {
   "cell_type": "code",
   "execution_count": null,
   "metadata": {},
   "outputs": [],
   "source": []
  },
  {
   "cell_type": "code",
   "execution_count": 3,
   "metadata": {},
   "outputs": [],
   "source": [
    "μ_1 = np.array([0.5,0.25,0.25])\n",
    "μ_2 = np.array([0.4,0.15,0.45])\n",
    "# μ_3 = np.array([0.3,0.45,0.25])\n",
    "\n",
    "    # [0.8018,0.2673,0.5345] \n",
    "    # [0.2673,0.8018,0.5345]\n",
    "α = 2\n",
    "β = 2\n",
    "prior = lambda : beta.rvs(α, β)"
   ]
  },
  {
   "cell_type": "code",
   "execution_count": 4,
   "metadata": {},
   "outputs": [],
   "source": [
    "from dataset_initialisation import GMM_Init"
   ]
  },
  {
   "cell_type": "code",
   "execution_count": 5,
   "metadata": {},
   "outputs": [],
   "source": [
    "# class GMM_Init():\n",
    "\n",
    "#     def __init__(self, dataset, n_components=2):\n",
    "#         self.dataset = dataset\n",
    "#         gmm = GaussianMixture(n_components=n_components, covariance_type='full')\n",
    "#         self.fitted_gmm = gmm.fit(dataset)\n",
    "\n",
    "#         self.cluster_centres = self.fitted_gmm.means_\n",
    "#         self.cluster_covs = self.fitted_gmm.covariances_\n",
    "\n",
    "#         self.gamma_estimates = np.array([self.gamma_scaled(cov_mat) for cov_mat in self.cluster_covs])\n",
    "    \n",
    "\n",
    "#     def mu_prior_cov_estimate(self):\n",
    "#         cluster_centres = self.fitted_gmm.means_\n",
    "\n",
    "#         print(cluster_centres, \"cluster centres\")\n",
    "\n",
    "#         return np.cov(cluster_centres.T)\n",
    "    \n",
    "#     def gamma_scaled(self, cov_mat):\n",
    "#         ν = cov_mat[-1,-1]\n",
    "#         γ = cov_mat[-1,:-1] / np.sqrt(ν)\n",
    "#         return γ\n",
    "\n",
    "    \n",
    "#     def gamma_prior_cov_estimate(self):\n",
    "#         print(\"self.gamma_estimates: \", self.gamma_estimates)\n",
    "#         gamma_cov_estimate = np.cov(self.gamma_estimates.T)\n",
    "#         return gamma_cov_estimate\n",
    "\n",
    "\n",
    "#     def sigma_prior_params_estimate(self):\n",
    "#         d = len(self.cluster_covs[0])\n",
    "\n",
    "#         sigma_star_estimates = []\n",
    "\n",
    "#         for i, cov_mat in enumerate(self.cluster_covs):\n",
    "#             sigma_star_estimates.append(cov_mat[:-1,:-1] - np.outer(self.gamma_estimates[i], self.gamma_estimates[i]))\n",
    "        \n",
    "#         sigma_star_estimates = np.array(sigma_star_estimates)\n",
    "\n",
    "#         self.sigma_star_estimates = sigma_star_estimates\n",
    "\n",
    "#         dim = len(sigma_star_estimates[0])\n",
    "#         dof = d+3 # Set it to be d+3 for now\n",
    "#         sigma_star_mean = np.mean(sigma_star_estimates, axis = 0)\n",
    "#         scale = sigma_star_mean * (dof - (dim + 1))\n",
    "\n",
    "#         return scale, dof"
   ]
  },
  {
   "cell_type": "code",
   "execution_count": 6,
   "metadata": {},
   "outputs": [],
   "source": [
    "ds = Synthetic_data(μ_1, μ_2, prior, N_t=1000)"
   ]
  },
  {
   "cell_type": "code",
   "execution_count": 7,
   "metadata": {},
   "outputs": [],
   "source": [
    "# import matplotlib.pyplot as plt\n",
    "\n",
    "# plt.scatter(ds.normed_embds[:,0], ds.normed_embds[:,1])"
   ]
  },
  {
   "cell_type": "code",
   "execution_count": 8,
   "metadata": {},
   "outputs": [
    {
     "name": "stdout",
     "output_type": "stream",
     "text": [
      "[[0.5568851  0.12722121 0.69364299]\n",
      " [0.73871968 0.46924433 0.29240905]] cluster centres\n",
      "self.gamma_estimates:  [[-0.20113916  0.08445458]\n",
      " [-0.09650314  0.03301556]]\n",
      "mu_cov 0 det: 7.783397529377487e-05\n",
      "scale_mat 0 det: 0.008623511173730268\n",
      "gamma_cov 0 det: 7.242486970835846e-06\n",
      "gamma cov: [[0.00547435 0.        ]\n",
      " [0.         0.00132299]]\n",
      "mu_cov 1 det: 7.783397529377487e-05\n",
      "scale_mat 1 det: 0.008623511173730268\n",
      "gamma_cov 1 det: 7.242486970835846e-06\n",
      "gamma cov: [[0.00547435 0.        ]\n",
      " [0.         0.00132299]]\n"
     ]
    }
   ],
   "source": [
    "ds.gaussian_mm_init()"
   ]
  },
  {
   "cell_type": "code",
   "execution_count": 9,
   "metadata": {},
   "outputs": [],
   "source": [
    "def print_attributes(obj):\n",
    "    attributes = dir(obj)\n",
    "    attributes = [attr for attr in attributes if not attr.startswith('__') and not callable(getattr(obj, attr))]\n",
    "    for attr in attributes:\n",
    "        value = getattr(obj, attr)\n",
    "        print(f\"{attr}: {value}\")"
   ]
  },
  {
   "cell_type": "markdown",
   "metadata": {},
   "source": [
    "## μ variables"
   ]
  },
  {
   "cell_type": "code",
   "execution_count": 10,
   "metadata": {},
   "outputs": [
    {
     "name": "stdout",
     "output_type": "stream",
     "text": [
      "cov: [[0.01653191 0.         0.        ]\n",
      " [0.         0.05848991 0.        ]\n",
      " [0.         0.         0.08049434]]\n",
      "d: 3\n",
      "k: 0\n",
      "mean: [0.5568851  0.12722121 0.69364299]\n",
      "prior_cov: [[0.01653191 0.         0.        ]\n",
      " [0.         0.05848991 0.        ]\n",
      " [0.         0.         0.08049434]]\n",
      "prior_mean: [0. 0. 0.]\n",
      "\n",
      "cov matrix det: 7.783397529377487e-05\n"
     ]
    }
   ],
   "source": [
    "print_attributes(ds.means_vars[0])\n",
    "print()\n",
    "print(\"cov matrix det:\" , np.linalg.det(ds.means_vars[0].cov))"
   ]
  },
  {
   "cell_type": "code",
   "execution_count": 11,
   "metadata": {},
   "outputs": [
    {
     "name": "stdout",
     "output_type": "stream",
     "text": [
      "cov: [[0.01653191 0.         0.        ]\n",
      " [0.         0.05848991 0.        ]\n",
      " [0.         0.         0.08049434]]\n",
      "d: 3\n",
      "k: 1\n",
      "mean: [0.73871968 0.46924433 0.29240905]\n",
      "prior_cov: [[0.01653191 0.         0.        ]\n",
      " [0.         0.05848991 0.        ]\n",
      " [0.         0.         0.08049434]]\n",
      "prior_mean: [0. 0. 0.]\n",
      "\n",
      "cov matrix det: 7.783397529377487e-05\n"
     ]
    }
   ],
   "source": [
    "print_attributes(ds.means_vars[1])\n",
    "print()\n",
    "print(\"cov matrix det:\" , np.linalg.det(ds.means_vars[0].cov))"
   ]
  },
  {
   "cell_type": "markdown",
   "metadata": {},
   "source": [
    "## γ variables"
   ]
  },
  {
   "cell_type": "code",
   "execution_count": 12,
   "metadata": {},
   "outputs": [
    {
     "name": "stdout",
     "output_type": "stream",
     "text": [
      "cov: [[0.00547435 0.        ]\n",
      " [0.         0.00132299]]\n",
      "d: 3\n",
      "dim: 2\n",
      "k: 0\n",
      "mean: [-0.20113916  0.08445458]\n",
      "nu: 0.03657066324587103\n",
      "prior_cov: [[0.00547435 0.        ]\n",
      " [0.         0.00132299]]\n",
      "\n",
      "cov matrix det: 7.242486970835846e-06\n"
     ]
    }
   ],
   "source": [
    "print_attributes(ds.gamma_vars[0])\n",
    "print()\n",
    "print(\"cov matrix det:\" , np.linalg.det(ds.gamma_vars[0].cov))"
   ]
  },
  {
   "cell_type": "code",
   "execution_count": 13,
   "metadata": {},
   "outputs": [
    {
     "name": "stdout",
     "output_type": "stream",
     "text": [
      "cov: [[0.00547435 0.        ]\n",
      " [0.         0.00132299]]\n",
      "d: 3\n",
      "dim: 2\n",
      "k: 1\n",
      "mean: [-0.09650314  0.03301556]\n",
      "nu: 0.04770275946491582\n",
      "prior_cov: [[0.00547435 0.        ]\n",
      " [0.         0.00132299]]\n",
      "\n",
      "cov matrix det: 7.242486970835846e-06\n"
     ]
    }
   ],
   "source": [
    "print_attributes(ds.gamma_vars[1])\n",
    "print()\n",
    "print(\"cov matrix det:\" , np.linalg.det(ds.gamma_vars[1].cov))"
   ]
  },
  {
   "cell_type": "markdown",
   "metadata": {},
   "source": [
    "## sigma star variables"
   ]
  },
  {
   "cell_type": "code",
   "execution_count": 14,
   "metadata": {},
   "outputs": [
    {
     "name": "stdout",
     "output_type": "stream",
     "text": [
      "d: 3\n",
      "dim: 2\n",
      "dof: 6\n",
      "first_moment: None\n",
      "k: 0\n",
      "nu: 0.03657066324587103\n",
      "prior_dof: 6\n",
      "prior_scale: [[ 0.08156736 -0.09517379]\n",
      " [-0.09517379  0.21677251]]\n",
      "scale: [[ 0.07328338 -0.07720037]\n",
      " [-0.07720037  0.25190448]]\n",
      "sigma_star_scale_det: 0.012500514391138216\n"
     ]
    }
   ],
   "source": [
    "print_attributes(ds.sigma_star_vars[0])\n",
    "\n",
    "print(\"sigma_star_scale_det:\", np.linalg.det(ds.sigma_star_vars[0].scale))"
   ]
  },
  {
   "cell_type": "code",
   "execution_count": 15,
   "metadata": {},
   "outputs": [
    {
     "name": "stdout",
     "output_type": "stream",
     "text": [
      "d: 3\n",
      "dim: 2\n",
      "dof: 6\n",
      "first_moment: None\n",
      "k: 1\n",
      "nu: 0.04770275946491582\n",
      "prior_dof: 6\n",
      "prior_scale: [[ 0.08156736 -0.09517379]\n",
      " [-0.09517379  0.21677251]]\n",
      "scale: [[ 0.08985134 -0.11314721]\n",
      " [-0.11314721  0.18164055]]\n",
      "sigma_star_scale_det: 0.0035183551362845036\n"
     ]
    }
   ],
   "source": [
    "print_attributes(ds.sigma_star_vars[1])\n",
    "\n",
    "print(\"sigma_star_scale_det:\", np.linalg.det(ds.sigma_star_vars[1].scale))\n"
   ]
  },
  {
   "cell_type": "code",
   "execution_count": 16,
   "metadata": {},
   "outputs": [
    {
     "name": "stdout",
     "output_type": "stream",
     "text": [
      "Number of elements in each group:\n",
      "Group 0: 509 elements\n",
      "Group 1: 491 elements\n"
     ]
    }
   ],
   "source": [
    "ds.gmm.print_labels()"
   ]
  },
  {
   "cell_type": "code",
   "execution_count": null,
   "metadata": {},
   "outputs": [],
   "source": []
  },
  {
   "cell_type": "code",
   "execution_count": null,
   "metadata": {},
   "outputs": [],
   "source": []
  },
  {
   "cell_type": "code",
   "execution_count": 18,
   "metadata": {},
   "outputs": [
    {
     "name": "stdout",
     "output_type": "stream",
     "text": [
      "[[0.76698329 0.05455222 0.4882223 ]\n",
      " [0.51528299 0.5463257  0.51098229]] cluster centres\n",
      "self.gamma_estimates:  [[-0.16779501 -0.07135936]\n",
      " [-0.15905216 -0.10564879]]\n",
      "mu_cov 0 det: 9.920911307103936e-07\n",
      "scale_mat 0 det: 0.0053011410830036245\n",
      "gamma_cov 0 det: 2.246812616249597e-08\n",
      "gamma cov: [[3.82187543e-05 0.00000000e+00]\n",
      " [0.00000000e+00 5.87882221e-04]]\n",
      "mu_cov 1 det: 9.920911307103936e-07\n",
      "scale_mat 1 det: 0.0053011410830036245\n",
      "gamma_cov 1 det: 2.246812616249597e-08\n",
      "gamma cov: [[3.82187543e-05 0.00000000e+00]\n",
      " [0.00000000e+00 5.87882221e-04]]\n"
     ]
    },
    {
     "name": "stderr",
     "output_type": "stream",
     "text": [
      "Performing VI:   0%|          | 0/10 [00:00<?, ?it/s]"
     ]
    },
    {
     "name": "stderr",
     "output_type": "stream",
     "text": [
      "Performing VI: 100%|██████████| 10/10 [00:23<00:00,  2.35s/it]\n"
     ]
    }
   ],
   "source": [
    "ds.dataset_vi(max_iter=10)"
   ]
  },
  {
   "cell_type": "code",
   "execution_count": 23,
   "metadata": {},
   "outputs": [
    {
     "data": {
      "text/plain": [
       "array([0.02443844, 0.01397415, 0.05581803])"
      ]
     },
     "execution_count": 23,
     "metadata": {},
     "output_type": "execute_result"
    }
   ],
   "source": [
    "ds.means_vars[1].mean"
   ]
  },
  {
   "cell_type": "code",
   "execution_count": 22,
   "metadata": {},
   "outputs": [
    {
     "ename": "AttributeError",
     "evalue": "'Synthetic_data' object has no attribute 'mean_vars'",
     "output_type": "error",
     "traceback": [
      "\u001b[0;31m---------------------------------------------------------------------------\u001b[0m",
      "\u001b[0;31mAttributeError\u001b[0m                            Traceback (most recent call last)",
      "Cell \u001b[0;32mIn[22], line 1\u001b[0m\n\u001b[0;32m----> 1\u001b[0m \u001b[43mds\u001b[49m\u001b[38;5;241;43m.\u001b[39;49m\u001b[43mmean_vars\u001b[49m[\u001b[38;5;241m1\u001b[39m]\u001b[38;5;241m.\u001b[39mmean\n",
      "\u001b[0;31mAttributeError\u001b[0m: 'Synthetic_data' object has no attribute 'mean_vars'"
     ]
    }
   ],
   "source": [
    "ds.mean_vars[1].mean"
   ]
  },
  {
   "cell_type": "code",
   "execution_count": null,
   "metadata": {},
   "outputs": [],
   "source": []
  }
 ],
 "metadata": {
  "kernelspec": {
   "display_name": "vi_venv",
   "language": "python",
   "name": "python3"
  },
  "language_info": {
   "codemirror_mode": {
    "name": "ipython",
    "version": 3
   },
   "file_extension": ".py",
   "mimetype": "text/x-python",
   "name": "python",
   "nbconvert_exporter": "python",
   "pygments_lexer": "ipython3",
   "version": "3.12.0"
  }
 },
 "nbformat": 4,
 "nbformat_minor": 2
}
