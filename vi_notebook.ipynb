{
 "cells": [
  {
   "cell_type": "code",
   "execution_count": 11,
   "metadata": {},
   "outputs": [],
   "source": [
    "from dataset import Dataset, Synthetic_data\n",
    "\n",
    "import numpy as np\n",
    "from scipy.linalg import orthogonal_procrustes\n",
    "\n",
    "from sklearn.cluster import KMeans\n",
    "from sklearn.metrics import silhouette_score\n",
    "\n",
    "from tqdm import tqdm\n",
    "\n",
    "from mu_dist import Mu\n",
    "from sigma_dist import Sigma_Star\n",
    "from gamma_dist import Gamma\n",
    "\n",
    "from r_dist import R\n",
    "from z_dist import Z\n",
    "from phi_dist import Phi\n",
    "\n",
    "from dataset_initialisation import GMM_Init\n",
    "\n",
    "from scipy.stats import beta"
   ]
  },
  {
   "cell_type": "code",
   "execution_count": 12,
   "metadata": {},
   "outputs": [],
   "source": [
    "μ_1 = np.array([0.5,0.25,0.25])\n",
    "μ_2 = np.array([0.4,0.15,0.45])\n",
    "\n",
    "    # [0.8018,0.2673,0.5345] \n",
    "    # [0.2673,0.8018,0.5345]\n",
    "α = 2\n",
    "β = 2\n",
    "prior = lambda : beta.rvs(α, β)"
   ]
  },
  {
   "cell_type": "code",
   "execution_count": 13,
   "metadata": {},
   "outputs": [],
   "source": [
    "from dataset_initialisation import GMM_Init"
   ]
  },
  {
   "cell_type": "code",
   "execution_count": 14,
   "metadata": {},
   "outputs": [],
   "source": [
    "ds = Synthetic_data(μ_1, μ_2, prior, N_t=1000)"
   ]
  },
  {
   "cell_type": "code",
   "execution_count": 15,
   "metadata": {},
   "outputs": [],
   "source": [
    "def print_attributes(obj):\n",
    "    attributes = dir(obj)\n",
    "    attributes = [attr for attr in attributes if not attr.startswith('__') and not callable(getattr(obj, attr))]\n",
    "    for attr in attributes:\n",
    "        value = getattr(obj, attr)\n",
    "        print(f\"{attr}: {value}\")"
   ]
  },
  {
   "cell_type": "markdown",
   "metadata": {},
   "source": [
    "## μ variables"
   ]
  },
  {
   "cell_type": "code",
   "execution_count": 16,
   "metadata": {},
   "outputs": [
    {
     "name": "stdout",
     "output_type": "stream",
     "text": [
      "cov: None\n",
      "d: 3\n",
      "k: 0\n",
      "mean: None\n",
      "prior_cov: [[1. 0. 0.]\n",
      " [0. 1. 0.]\n",
      " [0. 0. 1.]]\n",
      "prior_mean: [0. 0. 0.]\n"
     ]
    }
   ],
   "source": [
    "print_attributes(ds.means_vars[0])"
   ]
  },
  {
   "cell_type": "code",
   "execution_count": null,
   "metadata": {},
   "outputs": [],
   "source": []
  }
 ],
 "metadata": {
  "kernelspec": {
   "display_name": "vi_venv",
   "language": "python",
   "name": "python3"
  },
  "language_info": {
   "codemirror_mode": {
    "name": "ipython",
    "version": 3
   },
   "file_extension": ".py",
   "mimetype": "text/x-python",
   "name": "python",
   "nbconvert_exporter": "python",
   "pygments_lexer": "ipython3",
   "version": "3.12.0"
  }
 },
 "nbformat": 4,
 "nbformat_minor": 2
}
