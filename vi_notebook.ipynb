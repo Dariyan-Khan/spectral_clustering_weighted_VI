{
 "cells": [
  {
   "cell_type": "code",
   "execution_count": 1,
   "metadata": {},
   "outputs": [],
   "source": [
    "%load_ext autoreload\n",
    "%autoreload 1\n",
    "\n",
    "from dataset import Dataset, Synthetic_data\n",
    "\n",
    "import numpy as np\n",
    "from scipy.linalg import orthogonal_procrustes\n",
    "\n",
    "from sklearn.cluster import KMeans\n",
    "from sklearn.metrics import silhouette_score\n",
    "\n",
    "from tqdm import tqdm\n",
    "\n",
    "from mu_dist import Mu\n",
    "from sigma_dist import Sigma_Star\n",
    "from gamma_dist import Gamma\n",
    "\n",
    "from r_dist import R\n",
    "from z_dist import Z\n",
    "from phi_dist import Phi\n",
    "\n",
    "from dataset_initialisation import GMM_Init\n",
    "\n",
    "from scipy.stats import beta"
   ]
  },
  {
   "cell_type": "code",
   "execution_count": 2,
   "metadata": {},
   "outputs": [],
   "source": [
    "%aimport dataset\n",
    "%aimport dataset_initialisation"
   ]
  },
  {
   "cell_type": "code",
   "execution_count": null,
   "metadata": {},
   "outputs": [],
   "source": []
  },
  {
   "cell_type": "code",
   "execution_count": 4,
   "metadata": {},
   "outputs": [],
   "source": [
    "μ_1 = np.array([0.8,0.15,0.05])\n",
    "μ_2 = np.array([0.4,0.45,0.15])\n",
    "μ_3 = np.array([0.1,0.3,0.6])\n",
    "\n",
    "    # [0.8018,0.2673,0.5345] \n",
    "    # [0.2673,0.8018,0.5345]\n",
    "α = 2\n",
    "β = 2\n",
    "prior = lambda : beta.rvs(α, β)"
   ]
  },
  {
   "cell_type": "code",
   "execution_count": 5,
   "metadata": {},
   "outputs": [],
   "source": [
    "from dataset_initialisation import GMM_Init"
   ]
  },
  {
   "cell_type": "code",
   "execution_count": 6,
   "metadata": {},
   "outputs": [],
   "source": [
    "# class GMM_Init():\n",
    "\n",
    "#     def __init__(self, dataset, n_components=2):\n",
    "#         self.dataset = dataset\n",
    "#         gmm = GaussianMixture(n_components=n_components, covariance_type='full')\n",
    "#         self.fitted_gmm = gmm.fit(dataset)\n",
    "\n",
    "#         self.cluster_centres = self.fitted_gmm.means_\n",
    "#         self.cluster_covs = self.fitted_gmm.covariances_\n",
    "\n",
    "#         self.gamma_estimates = np.array([self.gamma_scaled(cov_mat) for cov_mat in self.cluster_covs])\n",
    "    \n",
    "\n",
    "#     def mu_prior_cov_estimate(self):\n",
    "#         cluster_centres = self.fitted_gmm.means_\n",
    "\n",
    "#         print(cluster_centres, \"cluster centres\")\n",
    "\n",
    "#         return np.cov(cluster_centres.T)\n",
    "    \n",
    "#     def gamma_scaled(self, cov_mat):\n",
    "#         ν = cov_mat[-1,-1]\n",
    "#         γ = cov_mat[-1,:-1] / np.sqrt(ν)\n",
    "#         return γ\n",
    "\n",
    "    \n",
    "#     def gamma_prior_cov_estimate(self):\n",
    "#         print(\"self.gamma_estimates: \", self.gamma_estimates)\n",
    "#         gamma_cov_estimate = np.cov(self.gamma_estimates.T)\n",
    "#         return gamma_cov_estimate\n",
    "\n",
    "\n",
    "#     def sigma_prior_params_estimate(self):\n",
    "#         d = len(self.cluster_covs[0])\n",
    "\n",
    "#         sigma_star_estimates = []\n",
    "\n",
    "#         for i, cov_mat in enumerate(self.cluster_covs):\n",
    "#             sigma_star_estimates.append(cov_mat[:-1,:-1] - np.outer(self.gamma_estimates[i], self.gamma_estimates[i]))\n",
    "        \n",
    "#         sigma_star_estimates = np.array(sigma_star_estimates)\n",
    "\n",
    "#         self.sigma_star_estimates = sigma_star_estimates\n",
    "\n",
    "#         dim = len(sigma_star_estimates[0])\n",
    "#         dof = d+3 # Set it to be d+3 for now\n",
    "#         sigma_star_mean = np.mean(sigma_star_estimates, axis = 0)\n",
    "#         scale = sigma_star_mean * (dof - (dim + 1))\n",
    "\n",
    "#         return scale, dof"
   ]
  },
  {
   "cell_type": "code",
   "execution_count": 7,
   "metadata": {},
   "outputs": [],
   "source": [
    "ds = Synthetic_data(μ_1, μ_2, μ_3, prior, N_t=1000)"
   ]
  },
  {
   "cell_type": "code",
   "execution_count": 8,
   "metadata": {},
   "outputs": [],
   "source": [
    "# import matplotlib.pyplot as plt\n",
    "\n",
    "# plt.scatter(ds.normed_embds[:,0], ds.normed_embds[:,1])"
   ]
  },
  {
   "cell_type": "code",
   "execution_count": 9,
   "metadata": {},
   "outputs": [
    {
     "name": "stdout",
     "output_type": "stream",
     "text": [
      "[[0.12276602 0.53247079 0.78196976]\n",
      " [0.8844881  0.08486708 0.32211674]\n",
      " [0.73748388 0.57573496 0.03567277]] cluster centres\n",
      "self.gamma_estimates:  [[ 0.03146241 -0.19976272]\n",
      " [-0.10038209  0.00028987]\n",
      " [-0.04491001  0.03882339]]\n",
      "mu_cov 0 det: 0.0017095304850218863\n",
      "scale_mat 0 det: 0.0023409947367255086\n",
      "gamma_cov 0 det: 7.188850842331236e-05\n",
      "gamma cov: [[0.00438215 0.        ]\n",
      " [0.         0.01640487]]\n",
      "mu_cov 1 det: 0.0017095304850218863\n",
      "scale_mat 1 det: 0.0023409947367255086\n",
      "gamma_cov 1 det: 7.188850842331236e-05\n",
      "gamma cov: [[0.00438215 0.        ]\n",
      " [0.         0.01640487]]\n",
      "mu_cov 2 det: 0.0017095304850218863\n",
      "scale_mat 2 det: 0.0023409947367255086\n",
      "gamma_cov 2 det: 7.188850842331236e-05\n",
      "gamma cov: [[0.00438215 0.        ]\n",
      " [0.         0.01640487]]\n"
     ]
    }
   ],
   "source": [
    "ds.gaussian_mm_init()"
   ]
  },
  {
   "cell_type": "code",
   "execution_count": 10,
   "metadata": {},
   "outputs": [],
   "source": [
    "def print_attributes(obj):\n",
    "    attributes = dir(obj)\n",
    "    attributes = [attr for attr in attributes if not attr.startswith('__') and not callable(getattr(obj, attr))]\n",
    "    for attr in attributes:\n",
    "        value = getattr(obj, attr)\n",
    "        print(f\"{attr}: {value}\")"
   ]
  },
  {
   "cell_type": "markdown",
   "metadata": {},
   "source": [
    "## μ variables"
   ]
  },
  {
   "cell_type": "code",
   "execution_count": 11,
   "metadata": {},
   "outputs": [
    {
     "name": "stdout",
     "output_type": "stream",
     "text": [
      "cov: [[0.1632848  0.         0.        ]\n",
      " [0.         0.07386203 0.        ]\n",
      " [0.         0.         0.14174569]]\n",
      "d: 3\n",
      "k: 0\n",
      "mean: [0.12276602 0.53247079 0.78196976]\n",
      "prior_cov: [[0.1632848  0.         0.        ]\n",
      " [0.         0.07386203 0.        ]\n",
      " [0.         0.         0.14174569]]\n",
      "prior_mean: [0. 0. 0.]\n",
      "\n",
      "cov matrix det: 0.0017095304850218863\n"
     ]
    }
   ],
   "source": [
    "print_attributes(ds.means_vars[0])\n",
    "print()\n",
    "print(\"cov matrix det:\" , np.linalg.det(ds.means_vars[0].cov))"
   ]
  },
  {
   "cell_type": "code",
   "execution_count": 12,
   "metadata": {},
   "outputs": [
    {
     "name": "stdout",
     "output_type": "stream",
     "text": [
      "cov: [[0.1632848  0.         0.        ]\n",
      " [0.         0.07386203 0.        ]\n",
      " [0.         0.         0.14174569]]\n",
      "d: 3\n",
      "k: 1\n",
      "mean: [0.8844881  0.08486708 0.32211674]\n",
      "prior_cov: [[0.1632848  0.         0.        ]\n",
      " [0.         0.07386203 0.        ]\n",
      " [0.         0.         0.14174569]]\n",
      "prior_mean: [0. 0. 0.]\n",
      "\n",
      "cov matrix det: 0.0017095304850218863\n"
     ]
    }
   ],
   "source": [
    "print_attributes(ds.means_vars[1])\n",
    "print()\n",
    "print(\"cov matrix det:\" , np.linalg.det(ds.means_vars[0].cov))"
   ]
  },
  {
   "cell_type": "markdown",
   "metadata": {},
   "source": [
    "## γ variables"
   ]
  },
  {
   "cell_type": "code",
   "execution_count": 13,
   "metadata": {},
   "outputs": [
    {
     "name": "stdout",
     "output_type": "stream",
     "text": [
      "cov: [[0.00438215 0.        ]\n",
      " [0.         0.01640487]]\n",
      "d: 3\n",
      "dim: 2\n",
      "k: 0\n",
      "mean: [ 0.03146241 -0.19976272]\n",
      "nu: 0.02214891160027294\n",
      "prior_cov: [[0.00438215 0.        ]\n",
      " [0.         0.01640487]]\n",
      "\n",
      "cov matrix det: 7.188850842331236e-05\n"
     ]
    }
   ],
   "source": [
    "print_attributes(ds.gamma_vars[0])\n",
    "print()\n",
    "print(\"cov matrix det:\" , np.linalg.det(ds.gamma_vars[0].cov))"
   ]
  },
  {
   "cell_type": "code",
   "execution_count": 14,
   "metadata": {},
   "outputs": [
    {
     "name": "stdout",
     "output_type": "stream",
     "text": [
      "cov: [[0.00438215 0.        ]\n",
      " [0.         0.01640487]]\n",
      "d: 3\n",
      "dim: 2\n",
      "k: 1\n",
      "mean: [-0.10038209  0.00028987]\n",
      "nu: 0.05498130332112595\n",
      "prior_cov: [[0.00438215 0.        ]\n",
      " [0.         0.01640487]]\n",
      "\n",
      "cov matrix det: 7.188850842331236e-05\n"
     ]
    }
   ],
   "source": [
    "print_attributes(ds.gamma_vars[1])\n",
    "print()\n",
    "print(\"cov matrix det:\" , np.linalg.det(ds.gamma_vars[1].cov))"
   ]
  },
  {
   "cell_type": "markdown",
   "metadata": {},
   "source": [
    "## sigma star variables"
   ]
  },
  {
   "cell_type": "code",
   "execution_count": 15,
   "metadata": {},
   "outputs": [
    {
     "name": "stdout",
     "output_type": "stream",
     "text": [
      "d: 3\n",
      "dim: 2\n",
      "dof: 6\n",
      "first_moment: None\n",
      "k: 0\n",
      "nu: 0.02214891160027294\n",
      "prior_dof: 6\n",
      "prior_scale: [[ 0.04483136 -0.03819025]\n",
      " [-0.03819025  0.08475071]]\n",
      "scale: [[ 0.04940718 -0.01925336]\n",
      " [-0.01925336  0.03124995]]\n",
      "sigma_star_scale_det: 0.0011732802877506877\n"
     ]
    }
   ],
   "source": [
    "print_attributes(ds.sigma_star_vars[0])\n",
    "\n",
    "print(\"sigma_star_scale_det:\", np.linalg.det(ds.sigma_star_vars[0].scale))"
   ]
  },
  {
   "cell_type": "code",
   "execution_count": 16,
   "metadata": {},
   "outputs": [
    {
     "name": "stdout",
     "output_type": "stream",
     "text": [
      "d: 3\n",
      "dim: 2\n",
      "dof: 6\n",
      "first_moment: None\n",
      "k: 1\n",
      "nu: 0.05498130332112595\n",
      "prior_dof: 6\n",
      "prior_scale: [[ 0.04483136 -0.03819025]\n",
      " [-0.03819025  0.08475071]]\n",
      "scale: [[ 0.00497235 -0.01124041]\n",
      " [-0.01124041  0.12002038]]\n",
      "sigma_star_scale_det: 0.00047043630574278576\n"
     ]
    }
   ],
   "source": [
    "print_attributes(ds.sigma_star_vars[1])\n",
    "\n",
    "print(\"sigma_star_scale_det:\", np.linalg.det(ds.sigma_star_vars[1].scale))\n"
   ]
  },
  {
   "cell_type": "code",
   "execution_count": 17,
   "metadata": {},
   "outputs": [
    {
     "name": "stdout",
     "output_type": "stream",
     "text": [
      "Number of elements in each group:\n",
      "Group 0: 326 elements\n",
      "Group 1: 322 elements\n",
      "Group 2: 352 elements\n"
     ]
    }
   ],
   "source": [
    "ds.gmm.print_labels()"
   ]
  },
  {
   "cell_type": "code",
   "execution_count": null,
   "metadata": {},
   "outputs": [],
   "source": []
  },
  {
   "cell_type": "code",
   "execution_count": null,
   "metadata": {},
   "outputs": [],
   "source": []
  },
  {
   "cell_type": "code",
   "execution_count": 18,
   "metadata": {},
   "outputs": [
    {
     "name": "stdout",
     "output_type": "stream",
     "text": [
      "[[0.12389962 0.53353438 0.7802318 ]\n",
      " [0.74157919 0.57118574 0.03513042]\n",
      " [0.88411673 0.0813276  0.32531048]] cluster centres\n",
      "self.gamma_estimates:  [[ 0.02937188 -0.1996718 ]\n",
      " [-0.04291738  0.03761332]\n",
      " [-0.10068865  0.00249248]]\n",
      "mu_cov 0 det: 0.0017116786547988717\n",
      "scale_mat 0 det: 0.002349325653139476\n",
      "gamma_cov 0 det: 6.96483247587759e-05\n",
      "gamma cov: [[0.0042465  0.        ]\n",
      " [0.         0.01640135]]\n",
      "mu_cov 1 det: 0.0017116786547988717\n",
      "scale_mat 1 det: 0.002349325653139476\n",
      "gamma_cov 1 det: 6.96483247587759e-05\n",
      "gamma cov: [[0.0042465  0.        ]\n",
      " [0.         0.01640135]]\n",
      "mu_cov 2 det: 0.0017116786547988717\n",
      "scale_mat 2 det: 0.002349325653139476\n",
      "gamma_cov 2 det: 6.96483247587759e-05\n",
      "gamma cov: [[0.0042465  0.        ]\n",
      " [0.         0.01640135]]\n"
     ]
    },
    {
     "name": "stderr",
     "output_type": "stream",
     "text": [
      "Performing VI:   0%|          | 0/10 [00:00<?, ?it/s]\n"
     ]
    },
    {
     "ename": "TypeError",
     "evalue": "return arrays must be of ArrayType",
     "output_type": "error",
     "traceback": [
      "\u001b[0;31m---------------------------------------------------------------------------\u001b[0m",
      "\u001b[0;31mTypeError\u001b[0m                                 Traceback (most recent call last)",
      "Cell \u001b[0;32mIn[18], line 1\u001b[0m\n\u001b[0;32m----> 1\u001b[0m \u001b[43mds\u001b[49m\u001b[38;5;241;43m.\u001b[39;49m\u001b[43mdataset_vi\u001b[49m\u001b[43m(\u001b[49m\u001b[43mmax_iter\u001b[49m\u001b[38;5;241;43m=\u001b[39;49m\u001b[38;5;241;43m10\u001b[39;49m\u001b[43m)\u001b[49m\n",
      "File \u001b[0;32m~/Library/CloudStorage/OneDrive-ImperialCollegeLondon/Work (one drive)/Imperial/year_4/M4R/weighted_VI_code/spectral_clustering_weighted_VI/dataset.py:140\u001b[0m, in \u001b[0;36mDataset.dataset_vi\u001b[0;34m(self, max_iter)\u001b[0m\n\u001b[1;32m    138\u001b[0m \u001b[38;5;28;01mfor\u001b[39;00m i \u001b[38;5;129;01min\u001b[39;00m \u001b[38;5;28mrange\u001b[39m(\u001b[38;5;28mself\u001b[39m\u001b[38;5;241m.\u001b[39mN):\n\u001b[1;32m    139\u001b[0m     \u001b[38;5;28mself\u001b[39m\u001b[38;5;241m.\u001b[39mr_vars[i]\u001b[38;5;241m.\u001b[39mvi(\u001b[38;5;28mself\u001b[39m\u001b[38;5;241m.\u001b[39mz_vars[i], \u001b[38;5;28mself\u001b[39m\u001b[38;5;241m.\u001b[39msigma_star_vars, \u001b[38;5;28mself\u001b[39m\u001b[38;5;241m.\u001b[39mgamma_vars, \u001b[38;5;28mself\u001b[39m\u001b[38;5;241m.\u001b[39mmeans_vars, \u001b[38;5;28mself\u001b[39m\u001b[38;5;241m.\u001b[39mnormed_embds[i]) \n\u001b[0;32m--> 140\u001b[0m     \u001b[38;5;28;43mself\u001b[39;49m\u001b[38;5;241;43m.\u001b[39;49m\u001b[43mz_vars\u001b[49m\u001b[43m[\u001b[49m\u001b[43mi\u001b[49m\u001b[43m]\u001b[49m\u001b[38;5;241;43m.\u001b[39;49m\u001b[43mvi\u001b[49m\u001b[43m(\u001b[49m\u001b[38;5;28;43mself\u001b[39;49m\u001b[38;5;241;43m.\u001b[39;49m\u001b[43mr_vars\u001b[49m\u001b[43m[\u001b[49m\u001b[43mi\u001b[49m\u001b[43m]\u001b[49m\u001b[43m,\u001b[49m\u001b[43m \u001b[49m\u001b[38;5;28;43mself\u001b[39;49m\u001b[38;5;241;43m.\u001b[39;49m\u001b[43mmeans_vars\u001b[49m\u001b[43m,\u001b[49m\u001b[43m \u001b[49m\u001b[38;5;28;43mself\u001b[39;49m\u001b[38;5;241;43m.\u001b[39;49m\u001b[43msigma_star_vars\u001b[49m\u001b[43m,\u001b[49m\u001b[43m \u001b[49m\u001b[38;5;28;43mself\u001b[39;49m\u001b[38;5;241;43m.\u001b[39;49m\u001b[43mgamma_vars\u001b[49m\u001b[43m,\u001b[49m\u001b[43m \u001b[49m\u001b[38;5;28;43mself\u001b[39;49m\u001b[38;5;241;43m.\u001b[39;49m\u001b[43mnormed_embds\u001b[49m\u001b[43m[\u001b[49m\u001b[43mi\u001b[49m\u001b[43m]\u001b[49m\u001b[43m,\u001b[49m\u001b[43m \u001b[49m\u001b[38;5;28;43mself\u001b[39;49m\u001b[38;5;241;43m.\u001b[39;49m\u001b[43mphi_var\u001b[49m\u001b[43m)\u001b[49m\n\u001b[1;32m    141\u001b[0m     \u001b[38;5;28mself\u001b[39m\u001b[38;5;241m.\u001b[39mphi_var\u001b[38;5;241m.\u001b[39mvi(\u001b[38;5;28mself\u001b[39m\u001b[38;5;241m.\u001b[39mz_vars)\n",
      "File \u001b[0;32m~/Library/CloudStorage/OneDrive-ImperialCollegeLondon/Work (one drive)/Imperial/year_4/M4R/weighted_VI_code/spectral_clustering_weighted_VI/z_dist.py:58\u001b[0m, in \u001b[0;36mZ.vi\u001b[0;34m(self, r_i, μ_list, sigma_star_list, γ_list, norm_datapoint, phi)\u001b[0m\n\u001b[1;32m     52\u001b[0m     log_probs[k] \u001b[38;5;241m=\u001b[39m P_k \u001b[38;5;241m+\u001b[39m np\u001b[38;5;241m.\u001b[39mlog(phi\u001b[38;5;241m.\u001b[39mconc[k])\n\u001b[1;32m     54\u001b[0m     \u001b[38;5;66;03m# print(\"self probbs in z_dist:\", self.probs)\u001b[39;00m\n\u001b[1;32m     55\u001b[0m \n\u001b[1;32m     56\u001b[0m \n\u001b[1;32m     57\u001b[0m \u001b[38;5;66;03m# self.probs = self.probs / sum(self.probs)\u001b[39;00m\n\u001b[0;32m---> 58\u001b[0m \u001b[38;5;28mself\u001b[39m\u001b[38;5;241m.\u001b[39mprobs \u001b[38;5;241m=\u001b[39m np\u001b[38;5;241m.\u001b[39mexp(log_probs \u001b[38;5;241m-\u001b[39m \u001b[43mnp\u001b[49m\u001b[38;5;241;43m.\u001b[39;49m\u001b[43mlogaddexp\u001b[49m\u001b[43m(\u001b[49m\u001b[38;5;241;43m*\u001b[39;49m\u001b[43mlog_probs\u001b[49m\u001b[43m)\u001b[49m)\n",
      "\u001b[0;31mTypeError\u001b[0m: return arrays must be of ArrayType"
     ]
    }
   ],
   "source": [
    "ds.dataset_vi(max_iter=10)"
   ]
  },
  {
   "cell_type": "code",
   "execution_count": 23,
   "metadata": {},
   "outputs": [
    {
     "data": {
      "text/plain": [
       "array([0.02443844, 0.01397415, 0.05581803])"
      ]
     },
     "execution_count": 23,
     "metadata": {},
     "output_type": "execute_result"
    }
   ],
   "source": [
    "ds.means_vars[1].mean"
   ]
  },
  {
   "cell_type": "code",
   "execution_count": 22,
   "metadata": {},
   "outputs": [
    {
     "ename": "AttributeError",
     "evalue": "'Synthetic_data' object has no attribute 'mean_vars'",
     "output_type": "error",
     "traceback": [
      "\u001b[0;31m---------------------------------------------------------------------------\u001b[0m",
      "\u001b[0;31mAttributeError\u001b[0m                            Traceback (most recent call last)",
      "Cell \u001b[0;32mIn[22], line 1\u001b[0m\n\u001b[0;32m----> 1\u001b[0m \u001b[43mds\u001b[49m\u001b[38;5;241;43m.\u001b[39;49m\u001b[43mmean_vars\u001b[49m[\u001b[38;5;241m1\u001b[39m]\u001b[38;5;241m.\u001b[39mmean\n",
      "\u001b[0;31mAttributeError\u001b[0m: 'Synthetic_data' object has no attribute 'mean_vars'"
     ]
    }
   ],
   "source": [
    "ds.mean_vars[1].mean"
   ]
  },
  {
   "cell_type": "code",
   "execution_count": null,
   "metadata": {},
   "outputs": [],
   "source": []
  }
 ],
 "metadata": {
  "kernelspec": {
   "display_name": "vi_venv",
   "language": "python",
   "name": "python3"
  },
  "language_info": {
   "codemirror_mode": {
    "name": "ipython",
    "version": 3
   },
   "file_extension": ".py",
   "mimetype": "text/x-python",
   "name": "python",
   "nbconvert_exporter": "python",
   "pygments_lexer": "ipython3",
   "version": "3.12.0"
  }
 },
 "nbformat": 4,
 "nbformat_minor": 2
}
