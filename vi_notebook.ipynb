{
 "cells": [
  {
   "cell_type": "code",
   "execution_count": 1,
   "metadata": {},
   "outputs": [],
   "source": [
    "from dataset import Dataset\n",
    "\n",
    "import numpy as np\n",
    "from scipy.linalg import orthogonal_procrustes\n",
    "\n",
    "from sklearn.cluster import KMeans\n",
    "from sklearn.metrics import silhouette_score\n",
    "\n",
    "from tqdm import tqdm\n",
    "\n",
    "from mu_dist import Mu\n",
    "from sigma_dist import Sigma_Star\n",
    "from gamma_dist import Gamma\n",
    "\n",
    "from r_dist import R\n",
    "from z_dist import Z\n",
    "from phi_dist import Phi\n",
    "\n",
    "from dataset_initialisation import GMM_Init\n",
    "\n",
    "from scipy.stats import beta"
   ]
  },
  {
   "cell_type": "code",
   "execution_count": null,
   "metadata": {},
   "outputs": [],
   "source": [
    "μ_1 = np.array([0.5,0.25,0.25])\n",
    "μ_2 = np.array([0.4,0.15,0.45])\n",
    "\n",
    "    # [0.8018,0.2673,0.5345] \n",
    "    # [0.2673,0.8018,0.5345]\n",
    "α = 2\n",
    "β = 2\n",
    "prior = lambda : beta.rvs(α, β)"
   ]
  }
 ],
 "metadata": {
  "kernelspec": {
   "display_name": "vi_venv",
   "language": "python",
   "name": "python3"
  },
  "language_info": {
   "codemirror_mode": {
    "name": "ipython",
    "version": 3
   },
   "file_extension": ".py",
   "mimetype": "text/x-python",
   "name": "python",
   "nbconvert_exporter": "python",
   "pygments_lexer": "ipython3",
   "version": "3.12.0"
  }
 },
 "nbformat": 4,
 "nbformat_minor": 2
}
