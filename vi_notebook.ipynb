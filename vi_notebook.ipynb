{
 "cells": [
  {
   "cell_type": "code",
   "execution_count": 1,
   "metadata": {},
   "outputs": [],
   "source": [
    "from dataset import Dataset, Synthetic_data\n",
    "\n",
    "import numpy as np\n",
    "from scipy.linalg import orthogonal_procrustes\n",
    "\n",
    "from sklearn.cluster import KMeans\n",
    "from sklearn.metrics import silhouette_score\n",
    "\n",
    "from tqdm import tqdm\n",
    "\n",
    "from mu_dist import Mu\n",
    "from sigma_dist import Sigma_Star\n",
    "from gamma_dist import Gamma\n",
    "\n",
    "from r_dist import R\n",
    "from z_dist import Z\n",
    "from phi_dist import Phi\n",
    "\n",
    "from dataset_initialisation import GMM_Init\n",
    "\n",
    "from scipy.stats import beta"
   ]
  },
  {
   "cell_type": "code",
   "execution_count": 2,
   "metadata": {},
   "outputs": [],
   "source": [
    "μ_1 = np.array([0.5,0.25,0.25])\n",
    "μ_2 = np.array([0.4,0.15,0.45])\n",
    "\n",
    "    # [0.8018,0.2673,0.5345] \n",
    "    # [0.2673,0.8018,0.5345]\n",
    "α = 2\n",
    "β = 2\n",
    "prior = lambda : beta.rvs(α, β)"
   ]
  },
  {
   "cell_type": "code",
   "execution_count": 3,
   "metadata": {},
   "outputs": [],
   "source": [
    "from dataset_initialisation import GMM_Init"
   ]
  },
  {
   "cell_type": "code",
   "execution_count": 4,
   "metadata": {},
   "outputs": [
    {
     "name": "stderr",
     "output_type": "stream",
     "text": [
      "/Users/dariyankhan/Library/CloudStorage/OneDrive-ImperialCollegeLondon/Work (one drive)/Imperial/year_4/M4R/weighted_VI_code/spectral_clustering_weighted_VI/dataset.py:30: RuntimeWarning: invalid value encountered in divide\n",
      "  self.normed_embds = self.embds / np.linalg.norm(self.embds, axis=1)[:, np.newaxis]\n"
     ]
    }
   ],
   "source": [
    "ds = Synthetic_data(μ_1, μ_2, prior, N_t=1000)"
   ]
  },
  {
   "cell_type": "code",
   "execution_count": 5,
   "metadata": {},
   "outputs": [
    {
     "name": "stdout",
     "output_type": "stream",
     "text": [
      "[[0.15444516 0.05811354 0.11310608]\n",
      " [0.29886597 0.14279986 0.2401997 ]] cluster centres\n",
      "self.gamma_estimates:  [[ 0.01603768  0.00355913]\n",
      " [-0.07664768 -0.03828466]]\n",
      "mu_cov 0 det: 0.0\n",
      "scale_mat 0 det: 0.0016325008211448275\n",
      "gamma_cov 0 det: -4.656960592089808e-22\n",
      "gamma cov: [[0.00429529 0.00193915]\n",
      " [0.00193915 0.00087545]]\n",
      "mu_cov 1 det: 0.0\n",
      "scale_mat 1 det: 0.0016325008211448275\n",
      "gamma_cov 1 det: -4.656960592089808e-22\n",
      "gamma cov: [[0.00429529 0.00193915]\n",
      " [0.00193915 0.00087545]]\n"
     ]
    }
   ],
   "source": [
    "ds.gaussian_mm_init()"
   ]
  },
  {
   "cell_type": "code",
   "execution_count": 6,
   "metadata": {},
   "outputs": [],
   "source": [
    "def print_attributes(obj):\n",
    "    attributes = dir(obj)\n",
    "    attributes = [attr for attr in attributes if not attr.startswith('__') and not callable(getattr(obj, attr))]\n",
    "    for attr in attributes:\n",
    "        value = getattr(obj, attr)\n",
    "        print(f\"{attr}: {value}\")"
   ]
  },
  {
   "cell_type": "markdown",
   "metadata": {},
   "source": [
    "## μ variables"
   ]
  },
  {
   "cell_type": "code",
   "execution_count": 7,
   "metadata": {},
   "outputs": [
    {
     "name": "stdout",
     "output_type": "stream",
     "text": [
      "cov: [[0.01042869 0.00611523 0.00917748]\n",
      " [0.00611523 0.00358589 0.00538155]\n",
      " [0.00917748 0.00538155 0.00807639]]\n",
      "d: 3\n",
      "k: 0\n",
      "mean: [0.15444516 0.05811354 0.11310608]\n",
      "prior_cov: [[0.01042869 0.00611523 0.00917748]\n",
      " [0.00611523 0.00358589 0.00538155]\n",
      " [0.00917748 0.00538155 0.00807639]]\n",
      "prior_mean: [0. 0. 0.]\n",
      "\n",
      "cov matrix det: 0.0\n"
     ]
    }
   ],
   "source": [
    "print_attributes(ds.means_vars[0])\n",
    "print()\n",
    "print(\"cov matrix det:\" , np.linalg.det(ds.means_vars[0].cov))"
   ]
  },
  {
   "cell_type": "code",
   "execution_count": 8,
   "metadata": {},
   "outputs": [
    {
     "name": "stdout",
     "output_type": "stream",
     "text": [
      "cov: [[0.01042869 0.00611523 0.00917748]\n",
      " [0.00611523 0.00358589 0.00538155]\n",
      " [0.00917748 0.00538155 0.00807639]]\n",
      "d: 3\n",
      "k: 1\n",
      "mean: [0.29886597 0.14279986 0.2401997 ]\n",
      "prior_cov: [[0.01042869 0.00611523 0.00917748]\n",
      " [0.00611523 0.00358589 0.00538155]\n",
      " [0.00917748 0.00538155 0.00807639]]\n",
      "prior_mean: [0. 0. 0.]\n",
      "\n",
      "cov matrix det: 0.0\n"
     ]
    }
   ],
   "source": [
    "print_attributes(ds.means_vars[1])\n",
    "print()\n",
    "print(\"cov matrix det:\" , np.linalg.det(ds.means_vars[0].cov))"
   ]
  },
  {
   "cell_type": "markdown",
   "metadata": {},
   "source": [
    "## γ variables"
   ]
  },
  {
   "cell_type": "code",
   "execution_count": 9,
   "metadata": {},
   "outputs": [
    {
     "name": "stdout",
     "output_type": "stream",
     "text": [
      "cov: [[0.00429529 0.00193915]\n",
      " [0.00193915 0.00087545]]\n",
      "d: 3\n",
      "dim: 2\n",
      "k: 0\n",
      "mean: [0.01603768 0.00355913]\n",
      "nu: 0.005598763998511398\n",
      "prior_cov: [[0.00429529 0.00193915]\n",
      " [0.00193915 0.00087545]]\n",
      "\n",
      "cov matrix det: -4.656960592089808e-22\n"
     ]
    }
   ],
   "source": [
    "print_attributes(ds.gamma_vars[0])\n",
    "print()\n",
    "print(\"cov matrix det:\" , np.linalg.det(ds.gamma_vars[0].cov))"
   ]
  },
  {
   "cell_type": "code",
   "execution_count": 10,
   "metadata": {},
   "outputs": [
    {
     "name": "stdout",
     "output_type": "stream",
     "text": [
      "cov: [[0.00429529 0.00193915]\n",
      " [0.00193915 0.00087545]]\n",
      "d: 3\n",
      "dim: 2\n",
      "k: 1\n",
      "mean: [-0.07664768 -0.03828466]\n",
      "nu: 0.026463049828926517\n",
      "prior_cov: [[0.00429529 0.00193915]\n",
      " [0.00193915 0.00087545]]\n",
      "\n",
      "cov matrix det: -4.656960592089808e-22\n"
     ]
    }
   ],
   "source": [
    "print_attributes(ds.gamma_vars[1])\n",
    "print()\n",
    "print(\"cov matrix det:\" , np.linalg.det(ds.gamma_vars[1].cov))"
   ]
  },
  {
   "cell_type": "markdown",
   "metadata": {},
   "source": [
    "## sigma star variables"
   ]
  },
  {
   "cell_type": "code",
   "execution_count": 11,
   "metadata": {},
   "outputs": [
    {
     "name": "stdout",
     "output_type": "stream",
     "text": [
      "d: 3\n",
      "dim: 2\n",
      "dof: 6\n",
      "first_moment: None\n",
      "k: 0\n",
      "nu: 0.005598763998511398\n",
      "prior_dof: 6\n",
      "prior_scale: [[ 0.03362751 -0.01435062]\n",
      " [-0.01435062  0.05467074]]\n",
      "scale: [[ 0.02170003 -0.00094147]\n",
      " [-0.00094147  0.01760741]]\n",
      "sigma_star_scale_det: 0.00038119504923230847\n"
     ]
    }
   ],
   "source": [
    "print_attributes(ds.sigma_star_vars[0])\n",
    "\n",
    "print(\"sigma_star_scale_det:\", np.linalg.det(ds.sigma_star_vars[0].scale))"
   ]
  },
  {
   "cell_type": "code",
   "execution_count": 12,
   "metadata": {},
   "outputs": [
    {
     "name": "stdout",
     "output_type": "stream",
     "text": [
      "d: 3\n",
      "dim: 2\n",
      "dof: 6\n",
      "first_moment: None\n",
      "k: 1\n",
      "nu: 0.026463049828926517\n",
      "prior_dof: 6\n",
      "prior_scale: [[ 0.03362751 -0.01435062]\n",
      " [-0.01435062  0.05467074]]\n",
      "scale: [[ 0.045555   -0.02775976]\n",
      " [-0.02775976  0.09173407]]\n",
      "sigma_star_scale_det: 0.00340834052351934\n"
     ]
    }
   ],
   "source": [
    "print_attributes(ds.sigma_star_vars[1])\n",
    "\n",
    "print(\"sigma_star_scale_det:\", np.linalg.det(ds.sigma_star_vars[1].scale))\n"
   ]
  },
  {
   "cell_type": "code",
   "execution_count": 13,
   "metadata": {},
   "outputs": [
    {
     "name": "stdout",
     "output_type": "stream",
     "text": [
      "[[0.29856869 0.14348368 0.24080469]\n",
      " [0.15524466 0.05779377 0.1130133 ]] cluster centres\n",
      "self.gamma_estimates:  [[-0.07687137 -0.03880978]\n",
      " [ 0.01615648  0.00313217]]\n",
      "mu_cov 0 det: 0.0\n",
      "scale_mat 0 det: 0.0016417689517118912\n",
      "gamma_cov 0 det: -4.691439920285511e-22\n",
      "gamma cov: [[0.00432709 0.00195088]\n",
      " [0.00195088 0.00087956]]\n",
      "mu_cov 1 det: 0.0\n",
      "scale_mat 1 det: 0.0016417689517118912\n",
      "gamma_cov 1 det: -4.691439920285511e-22\n",
      "gamma cov: [[0.00432709 0.00195088]\n",
      " [0.00195088 0.00087956]]\n"
     ]
    },
    {
     "name": "stderr",
     "output_type": "stream",
     "text": [
      "Performing VI:   0%|          | 0/1000 [00:00<?, ?it/s]"
     ]
    },
    {
     "name": "stderr",
     "output_type": "stream",
     "text": [
      "\n"
     ]
    },
    {
     "ename": "LinAlgError",
     "evalue": "Singular matrix",
     "output_type": "error",
     "traceback": [
      "\u001b[0;31m---------------------------------------------------------------------------\u001b[0m",
      "\u001b[0;31mLinAlgError\u001b[0m                               Traceback (most recent call last)",
      "Cell \u001b[0;32mIn[13], line 1\u001b[0m\n\u001b[0;32m----> 1\u001b[0m \u001b[43mds\u001b[49m\u001b[38;5;241;43m.\u001b[39;49m\u001b[43mdataset_vi\u001b[49m\u001b[43m(\u001b[49m\u001b[43m)\u001b[49m\n",
      "File \u001b[0;32m~/Library/CloudStorage/OneDrive-ImperialCollegeLondon/Work (one drive)/Imperial/year_4/M4R/weighted_VI_code/spectral_clustering_weighted_VI/dataset.py:133\u001b[0m, in \u001b[0;36mDataset.dataset_vi\u001b[0;34m(self, max_iter)\u001b[0m\n\u001b[1;32m    130\u001b[0m \u001b[38;5;28;01mfor\u001b[39;00m _ \u001b[38;5;129;01min\u001b[39;00m tqdm(\u001b[38;5;28mrange\u001b[39m(max_iter), desc\u001b[38;5;241m=\u001b[39m\u001b[38;5;124m\"\u001b[39m\u001b[38;5;124mPerforming VI\u001b[39m\u001b[38;5;124m\"\u001b[39m):\n\u001b[1;32m    132\u001b[0m     \u001b[38;5;28;01mfor\u001b[39;00m k \u001b[38;5;129;01min\u001b[39;00m \u001b[38;5;28mrange\u001b[39m(\u001b[38;5;28mself\u001b[39m\u001b[38;5;241m.\u001b[39mK):\n\u001b[0;32m--> 133\u001b[0m         \u001b[38;5;28;43mself\u001b[39;49m\u001b[38;5;241;43m.\u001b[39;49m\u001b[43mmeans_vars\u001b[49m\u001b[43m[\u001b[49m\u001b[43mk\u001b[49m\u001b[43m]\u001b[49m\u001b[38;5;241;43m.\u001b[39;49m\u001b[43mvi\u001b[49m\u001b[43m(\u001b[49m\u001b[38;5;28;43mself\u001b[39;49m\u001b[38;5;241;43m.\u001b[39;49m\u001b[43mz_vars\u001b[49m\u001b[43m,\u001b[49m\u001b[43m \u001b[49m\u001b[38;5;28;43mself\u001b[39;49m\u001b[38;5;241;43m.\u001b[39;49m\u001b[43mr_vars\u001b[49m\u001b[43m,\u001b[49m\u001b[43m \u001b[49m\u001b[38;5;28;43mself\u001b[39;49m\u001b[38;5;241;43m.\u001b[39;49m\u001b[43msigma_star_vars\u001b[49m\u001b[43m[\u001b[49m\u001b[43mk\u001b[49m\u001b[43m]\u001b[49m\u001b[43m,\u001b[49m\u001b[43m \u001b[49m\u001b[38;5;28;43mself\u001b[39;49m\u001b[38;5;241;43m.\u001b[39;49m\u001b[43mgamma_vars\u001b[49m\u001b[43m[\u001b[49m\u001b[43mk\u001b[49m\u001b[43m]\u001b[49m\u001b[43m,\u001b[49m\u001b[43m \u001b[49m\u001b[38;5;28;43mself\u001b[39;49m\u001b[43m)\u001b[49m\n\u001b[1;32m    134\u001b[0m         \u001b[38;5;28mself\u001b[39m\u001b[38;5;241m.\u001b[39msigma_star_vars[k]\u001b[38;5;241m.\u001b[39mvi(\u001b[38;5;28mself\u001b[39m\u001b[38;5;241m.\u001b[39mz_vars, \u001b[38;5;28mself\u001b[39m\u001b[38;5;241m.\u001b[39mr_vars, \u001b[38;5;28mself\u001b[39m\u001b[38;5;241m.\u001b[39mmeans_vars[k], \u001b[38;5;28mself\u001b[39m\u001b[38;5;241m.\u001b[39mgamma_vars[k], \u001b[38;5;28mself\u001b[39m)\n\u001b[1;32m    135\u001b[0m         \u001b[38;5;28mself\u001b[39m\u001b[38;5;241m.\u001b[39mgamma_vars[k]\u001b[38;5;241m.\u001b[39mvi(\u001b[38;5;28mself\u001b[39m\u001b[38;5;241m.\u001b[39mz_vars, \u001b[38;5;28mself\u001b[39m\u001b[38;5;241m.\u001b[39mr_vars, \u001b[38;5;28mself\u001b[39m\u001b[38;5;241m.\u001b[39msigma_star_vars[k], \u001b[38;5;28mself\u001b[39m\u001b[38;5;241m.\u001b[39mmeans_vars[k], \u001b[38;5;28mself\u001b[39m)\n",
      "File \u001b[0;32m~/Library/CloudStorage/OneDrive-ImperialCollegeLondon/Work (one drive)/Imperial/year_4/M4R/weighted_VI_code/spectral_clustering_weighted_VI/mu_dist.py:41\u001b[0m, in \u001b[0;36mMu.vi\u001b[0;34m(self, z_vi_list, r_vi_list, sigma_star_k, γ_k, datapoints)\u001b[0m\n\u001b[1;32m     37\u001b[0m     B \u001b[38;5;241m+\u001b[39m\u001b[38;5;241m=\u001b[39m r_vi_list[i]\u001b[38;5;241m.\u001b[39mfirst_moment \u001b[38;5;241m*\u001b[39m z\u001b[38;5;241m.\u001b[39mprobs[\u001b[38;5;28mself\u001b[39m\u001b[38;5;241m.\u001b[39mk] \u001b[38;5;241m*\u001b[39m data\n\u001b[1;32m     39\u001b[0m \u001b[38;5;66;03m# print(\"curr sigma_star_k\", sigma_star_k)\u001b[39;00m\n\u001b[0;32m---> 41\u001b[0m A \u001b[38;5;241m=\u001b[39m sigma_inv_approx(sigma_star_k, γ_k)\u001b[38;5;241m*\u001b[39mn_k \u001b[38;5;241m+\u001b[39m \u001b[43mnp\u001b[49m\u001b[38;5;241;43m.\u001b[39;49m\u001b[43mlinalg\u001b[49m\u001b[38;5;241;43m.\u001b[39;49m\u001b[43minv\u001b[49m\u001b[43m(\u001b[49m\u001b[38;5;28;43mself\u001b[39;49m\u001b[38;5;241;43m.\u001b[39;49m\u001b[43mprior_cov\u001b[49m\u001b[43m)\u001b[49m\n\u001b[1;32m     42\u001b[0m A_inv \u001b[38;5;241m=\u001b[39m np\u001b[38;5;241m.\u001b[39mlinalg\u001b[38;5;241m.\u001b[39minv(A)\n\u001b[1;32m     45\u001b[0m \u001b[38;5;28mself\u001b[39m\u001b[38;5;241m.\u001b[39mmean \u001b[38;5;241m=\u001b[39m A_inv \u001b[38;5;241m@\u001b[39m B \n",
      "File \u001b[0;32m~/Library/CloudStorage/OneDrive-ImperialCollegeLondon/Work (one drive)/Imperial/year_4/M4R/weighted_VI_code/vi_venv/lib/python3.12/site-packages/numpy/linalg/linalg.py:561\u001b[0m, in \u001b[0;36minv\u001b[0;34m(a)\u001b[0m\n\u001b[1;32m    559\u001b[0m signature \u001b[38;5;241m=\u001b[39m \u001b[38;5;124m'\u001b[39m\u001b[38;5;124mD->D\u001b[39m\u001b[38;5;124m'\u001b[39m \u001b[38;5;28;01mif\u001b[39;00m isComplexType(t) \u001b[38;5;28;01melse\u001b[39;00m \u001b[38;5;124m'\u001b[39m\u001b[38;5;124md->d\u001b[39m\u001b[38;5;124m'\u001b[39m\n\u001b[1;32m    560\u001b[0m extobj \u001b[38;5;241m=\u001b[39m get_linalg_error_extobj(_raise_linalgerror_singular)\n\u001b[0;32m--> 561\u001b[0m ainv \u001b[38;5;241m=\u001b[39m \u001b[43m_umath_linalg\u001b[49m\u001b[38;5;241;43m.\u001b[39;49m\u001b[43minv\u001b[49m\u001b[43m(\u001b[49m\u001b[43ma\u001b[49m\u001b[43m,\u001b[49m\u001b[43m \u001b[49m\u001b[43msignature\u001b[49m\u001b[38;5;241;43m=\u001b[39;49m\u001b[43msignature\u001b[49m\u001b[43m,\u001b[49m\u001b[43m \u001b[49m\u001b[43mextobj\u001b[49m\u001b[38;5;241;43m=\u001b[39;49m\u001b[43mextobj\u001b[49m\u001b[43m)\u001b[49m\n\u001b[1;32m    562\u001b[0m \u001b[38;5;28;01mreturn\u001b[39;00m wrap(ainv\u001b[38;5;241m.\u001b[39mastype(result_t, copy\u001b[38;5;241m=\u001b[39m\u001b[38;5;28;01mFalse\u001b[39;00m))\n",
      "File \u001b[0;32m~/Library/CloudStorage/OneDrive-ImperialCollegeLondon/Work (one drive)/Imperial/year_4/M4R/weighted_VI_code/vi_venv/lib/python3.12/site-packages/numpy/linalg/linalg.py:112\u001b[0m, in \u001b[0;36m_raise_linalgerror_singular\u001b[0;34m(err, flag)\u001b[0m\n\u001b[1;32m    111\u001b[0m \u001b[38;5;28;01mdef\u001b[39;00m \u001b[38;5;21m_raise_linalgerror_singular\u001b[39m(err, flag):\n\u001b[0;32m--> 112\u001b[0m     \u001b[38;5;28;01mraise\u001b[39;00m LinAlgError(\u001b[38;5;124m\"\u001b[39m\u001b[38;5;124mSingular matrix\u001b[39m\u001b[38;5;124m\"\u001b[39m)\n",
      "\u001b[0;31mLinAlgError\u001b[0m: Singular matrix"
     ]
    }
   ],
   "source": [
    "ds.dataset_vi()"
   ]
  },
  {
   "cell_type": "code",
   "execution_count": null,
   "metadata": {},
   "outputs": [],
   "source": []
  }
 ],
 "metadata": {
  "kernelspec": {
   "display_name": "vi_venv",
   "language": "python",
   "name": "python3"
  },
  "language_info": {
   "codemirror_mode": {
    "name": "ipython",
    "version": 3
   },
   "file_extension": ".py",
   "mimetype": "text/x-python",
   "name": "python",
   "nbconvert_exporter": "python",
   "pygments_lexer": "ipython3",
   "version": "3.12.0"
  }
 },
 "nbformat": 4,
 "nbformat_minor": 2
}
