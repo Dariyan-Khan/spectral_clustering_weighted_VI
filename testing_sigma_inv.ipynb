{
 "cells": [
  {
   "cell_type": "code",
   "execution_count": 2,
   "metadata": {},
   "outputs": [],
   "source": [
    "import numpy as np\n",
    "\n",
    "def stable_log_diff_exp(A, B):\n",
    "        \"\"\"\n",
    "        Compute log(exp(A) - exp(B)) in a numerically stable manner.\n",
    "        Assumes A >= B.\n",
    "\n",
    "        This is useful in cases where self.β is negative\n",
    "        \"\"\"\n",
    "        if A < B:\n",
    "            raise ValueError(\"Function assumes that A >= B for stability.\")\n",
    "        \n",
    "        # Handling the case where exp(B - A) could be numerically unstable\n",
    "        diff = B - A\n",
    "        if diff < -np.log(np.finfo(float).max):\n",
    "            # exp(B - A) is effectively zero\n",
    "            return A\n",
    "        else:\n",
    "            return A + np.log(1 - np.exp(diff))"
   ]
  },
  {
   "cell_type": "code",
   "execution_count": 4,
   "metadata": {},
   "outputs": [
    {
     "data": {
      "text/plain": [
       "1.9999999999999993"
      ]
     },
     "execution_count": 4,
     "metadata": {},
     "output_type": "execute_result"
    }
   ],
   "source": [
    "np.exp(stable_log_diff_exp(np.log(5), np.log(3)))"
   ]
  },
  {
   "cell_type": "code",
   "execution_count": null,
   "metadata": {},
   "outputs": [],
   "source": []
  }
 ],
 "metadata": {
  "kernelspec": {
   "display_name": "vi_venv",
   "language": "python",
   "name": "python3"
  },
  "language_info": {
   "codemirror_mode": {
    "name": "ipython",
    "version": 3
   },
   "file_extension": ".py",
   "mimetype": "text/x-python",
   "name": "python",
   "nbconvert_exporter": "python",
   "pygments_lexer": "ipython3",
   "version": "3.12.0"
  }
 },
 "nbformat": 4,
 "nbformat_minor": 2
}
