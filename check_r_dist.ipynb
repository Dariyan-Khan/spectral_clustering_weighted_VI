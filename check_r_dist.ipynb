{
 "cells": [
  {
   "cell_type": "markdown",
   "metadata": {},
   "source": [
    "## Check if the moments of R are calculated correctly"
   ]
  },
  {
   "cell_type": "code",
   "execution_count": 31,
   "metadata": {},
   "outputs": [
    {
     "name": "stdout",
     "output_type": "stream",
     "text": [
      "The approximate value of the integral is: (2.633516307983492, 1.739384184486733e-08)\n"
     ]
    }
   ],
   "source": [
    "import numpy as np\n",
    "from scipy.integrate import quad\n",
    "\n",
    "def approximate_integral(d, alpha, beta):\n",
    "    integrand = lambda r: r**d * np.exp(-alpha * (r - beta)**2)\n",
    "    result, error = quad(integrand, 0, np.inf)\n",
    "    return result, error\n",
    "\n",
    "# Example usage\n",
    "d = 2\n",
    "alpha = 1.0\n",
    "beta = 1.0\n",
    "integral_value = approximate_integral(d, alpha, beta)\n",
    "print(f\"The approximate value of the integral is: {integral_value}\")\n"
   ]
  },
  {
   "cell_type": "code",
   "execution_count": 32,
   "metadata": {},
   "outputs": [
    {
     "name": "stdout",
     "output_type": "stream",
     "text": [
      "2.6335163079834985\n"
     ]
    }
   ],
   "source": [
    "from r_dist import R\n",
    "\n",
    "r_var = R(d, alpha, beta)\n",
    "\n",
    "print(r_var.compute_Id(order=d))\n"
   ]
  },
  {
   "cell_type": "code",
   "execution_count": 38,
   "metadata": {},
   "outputs": [],
   "source": [
    "def test_integral_functions(num_tests, upper_limit=10):\n",
    "    for _ in range(num_tests):\n",
    "        # Generate random integers for d, alpha, and beta in the range 1 to 100\n",
    "        d = np.random.randint(1, upper_limit)\n",
    "        alpha = np.random.uniform(1, 10)\n",
    "        beta = np.random.uniform(1, 10)\n",
    "        \n",
    "        # Compute the integral using both functions\n",
    "        result1, error = approximate_integral(d, alpha, beta)\n",
    "        print(f\"error: {error}\")\n",
    "        \n",
    "        r_var = R(d, alpha, beta)\n",
    "        result2 = r_var.compute_Id(order=d)\n",
    "        \n",
    "        # Compare the results\n",
    "        print(f\"Test with d={d}, alpha={alpha}, beta={beta}\")\n",
    "        print(f\"Result from first function: {result1}\")\n",
    "        print(f\"Result from second function: {result2}\")\n",
    "        print(f\"Difference: {abs(result1 - result2)}\\n\")\n",
    "        \n",
    "        # Check if the results are sufficiently close (tolerance can be adjusted)\n",
    "        if not np.isclose(result1, result2, atol=1e-5):\n",
    "            print(\"Results are not the same within the tolerance limit.\")\n",
    "            print()\n",
    "            print(f\"alpha={alpha}, beta={beta}, d={d}\")\n",
    "            print(f\"Result from first function: {result1}\")\n",
    "            print(f\"Result from second function: {result2}\")\n",
    "            return False\n",
    "        \n",
    "    print(\"All tests passed. The functions give the same results within the tolerance limit.\")\n",
    "    return True"
   ]
  },
  {
   "cell_type": "code",
   "execution_count": 44,
   "metadata": {},
   "outputs": [
    {
     "name": "stdout",
     "output_type": "stream",
     "text": [
      "error: 0.00216998367793899\n",
      "Test with d=9, alpha=1, beta=3\n",
      "Result from first function: 153214.7881151673\n",
      "Result from second function: 153214.78811516726\n",
      "Difference: 2.9103830456733704e-11\n",
      "\n",
      "error: 0.0005538635836138776\n",
      "Test with d=5, alpha=8, beta=9\n",
      "Result from first function: 37289.32433776724\n",
      "Result from second function: 37289.32433776723\n",
      "Difference: 7.275957614183426e-12\n",
      "\n",
      "error: 2.9782417702103897e-06\n",
      "Test with d=5, alpha=4, beta=5\n",
      "Result from first function: 2908.9706463204147\n",
      "Result from second function: 2908.9706463201264\n",
      "Difference: 2.8830982046201825e-10\n",
      "\n",
      "error: 3.803394232404819e-07\n",
      "Test with d=2, alpha=8, beta=7\n",
      "Result from first function: 30.74536243102087\n",
      "Result from second function: 30.74536243102086\n",
      "Difference: 7.105427357601002e-15\n",
      "\n",
      "error: 3.3670128571430764e-09\n",
      "Test with d=2, alpha=7, beta=1\n",
      "Result from first function: 0.7177758676638603\n",
      "Result from second function: 0.7177758676638597\n",
      "Difference: 5.551115123125783e-16\n",
      "\n",
      "error: 6.12779852120597e-06\n",
      "Test with d=6, alpha=1, beta=3\n",
      "Result from first function: 2551.668875002119\n",
      "Result from second function: 2551.6688750070484\n",
      "Difference: 4.929461283609271e-09\n",
      "\n",
      "error: 3.3580581400671416e-08\n",
      "Test with d=2, alpha=9, beta=2\n",
      "Result from first function: 2.3960950206685676\n",
      "Result from second function: 2.396095020668568\n",
      "Difference: 4.440892098500626e-16\n",
      "\n",
      "error: 0.0007147176687545276\n",
      "Test with d=5, alpha=4, beta=9\n",
      "Result from first function: 53140.25739269193\n",
      "Result from second function: 53140.25739179961\n",
      "Difference: 8.923161658458412e-07\n",
      "\n",
      "error: 4.571595652548072e-08\n",
      "Test with d=4, alpha=8, beta=3\n",
      "Result from first function: 52.88153380552101\n",
      "Result from second function: 52.881533805520995\n",
      "Difference: 1.4210854715202004e-14\n",
      "\n",
      "error: 4.789629919539432e-08\n",
      "Test with d=1, alpha=4, beta=8\n",
      "Result from first function: 7.0898154036220635\n",
      "Result from second function: 7.0898154036220635\n",
      "Difference: 0.0\n",
      "\n",
      "All tests passed. The functions give the same results within the tolerance limit.\n"
     ]
    },
    {
     "data": {
      "text/plain": [
       "True"
      ]
     },
     "execution_count": 44,
     "metadata": {},
     "output_type": "execute_result"
    }
   ],
   "source": [
    "test_integral_functions(num_tests=10, upper_limit=10)"
   ]
  },
  {
   "cell_type": "code",
   "execution_count": null,
   "metadata": {},
   "outputs": [],
   "source": []
  }
 ],
 "metadata": {
  "kernelspec": {
   "display_name": "vi_venv",
   "language": "python",
   "name": "python3"
  },
  "language_info": {
   "codemirror_mode": {
    "name": "ipython",
    "version": 3
   },
   "file_extension": ".py",
   "mimetype": "text/x-python",
   "name": "python",
   "nbconvert_exporter": "python",
   "pygments_lexer": "ipython3",
   "version": "3.12.0"
  }
 },
 "nbformat": 4,
 "nbformat_minor": 2
}
