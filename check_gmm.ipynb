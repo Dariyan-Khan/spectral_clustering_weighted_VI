{
 "cells": [
  {
   "cell_type": "code",
   "execution_count": 1,
   "metadata": {},
   "outputs": [],
   "source": [
    "import numpy as np\n",
    "from sklearn.mixture import GaussianMixture"
   ]
  },
  {
   "cell_type": "code",
   "execution_count": 26,
   "metadata": {},
   "outputs": [],
   "source": [
    "gmm = GaussianMixture(n_components=2, covariance_type='full')\n",
    "# Define means and covariances\n",
    "mu_1 = np.array([0.75, 0.25])\n",
    "mu_2 = np.array([0.25, 0.75])\n",
    "\n",
    "cov_1 = np.array([[0.3, 0.0], \n",
    "                  [0.0, 0.1]])\n",
    "\n",
    "cov_2 = np.array([[0.2, 0.05], \n",
    "                  [0.05, 0.1]])\n",
    "\n",
    "# Number of samples from each distribution\n",
    "n_samples = 1000\n",
    "n_samples_per_dist = n_samples // 2\n",
    "\n",
    "# Generate samples\n",
    "samples_1 = np.random.multivariate_normal(mu_1, cov_1, n_samples_per_dist)\n",
    "samples_2 = np.random.multivariate_normal(mu_2, cov_2, n_samples_per_dist)\n",
    "\n",
    "# Combine and shuffle samples\n",
    "samples = np.vstack((samples_1, samples_2))\n",
    "np.random.shuffle(samples)\n",
    "\n",
    "# Verify the shape of the samples matrix\n",
    "# print(\"Shape of samples matrix:\", samples.shape)\n",
    "\n",
    "# # Display the first 5 samples\n",
    "# print(\"First 5 samples:\\n\", samples[:5])\n"
   ]
  },
  {
   "cell_type": "code",
   "execution_count": 27,
   "metadata": {},
   "outputs": [
    {
     "name": "stdout",
     "output_type": "stream",
     "text": [
      "First 5 samples:\n",
      " [[ 0.7534742   0.41767802]\n",
      " [ 1.0190615   0.41387336]\n",
      " [-0.1881834  -0.01588411]\n",
      " [ 1.43298316  0.32517327]\n",
      " [ 0.37241549  0.71890031]]\n"
     ]
    }
   ],
   "source": [
    "print(\"First 5 samples:\\n\", samples[:5])"
   ]
  },
  {
   "cell_type": "code",
   "execution_count": 35,
   "metadata": {},
   "outputs": [],
   "source": [
    "fitted_gmm = gmm.fit(samples)\n",
    "\n",
    "cluster_centres = fitted_gmm.means_\n",
    "\n",
    "cluster_covs = fitted_gmm.covariances_"
   ]
  },
  {
   "cell_type": "code",
   "execution_count": 36,
   "metadata": {},
   "outputs": [
    {
     "data": {
      "text/plain": [
       "array([[0.1874289 , 0.61428045],\n",
       "       [0.8446443 , 0.33405549]])"
      ]
     },
     "execution_count": 36,
     "metadata": {},
     "output_type": "execute_result"
    }
   ],
   "source": [
    "cluster_centres\n",
    "\n",
    "# real centres\n",
    "\n",
    "# mu_1 = np.array([0.75, 0.25])\n",
    "# mu_2 = np.array([0.25, 0.75])\n",
    "\n",
    "μ_1 = [0.1874289 , 0.61428045] \n",
    "\n",
    "μ_2 = [0.8446443 , 0.33405549]"
   ]
  },
  {
   "cell_type": "code",
   "execution_count": 37,
   "metadata": {},
   "outputs": [
    {
     "data": {
      "text/plain": [
       "array([[[ 0.17083841,  0.02823075],\n",
       "        [ 0.02823075,  0.13377022]],\n",
       "\n",
       "       [[ 0.21618161, -0.00799517],\n",
       "        [-0.00799517,  0.1442702 ]]])"
      ]
     },
     "execution_count": 37,
     "metadata": {},
     "output_type": "execute_result"
    }
   ],
   "source": [
    "cluster_covs\n",
    "\n",
    "# real covs\n",
    "\n",
    "# cov_1 = np.array([[0.3, 0.0], \n",
    "#                   [0.0, 0.1]])\n",
    "\n",
    "# cov_2 = np.array([[0.2, 0.05], \n",
    "#                   [0.05, 0.1]])\n",
    "\n",
    "cov_1 = [[ 0.17083841,  0.02823075],\n",
    "        [ 0.02823075,  0.13377022]]\n",
    "\n",
    "cov_2 = [[ 0.21618161, -0.00799517],\n",
    "        [-0.00799517,  0.1442702 ]]"
   ]
  },
  {
   "cell_type": "code",
   "execution_count": null,
   "metadata": {},
   "outputs": [],
   "source": [
    "    "
   ]
  }
 ],
 "metadata": {
  "kernelspec": {
   "display_name": "vi_venv",
   "language": "python",
   "name": "python3"
  },
  "language_info": {
   "codemirror_mode": {
    "name": "ipython",
    "version": 3
   },
   "file_extension": ".py",
   "mimetype": "text/x-python",
   "name": "python",
   "nbconvert_exporter": "python",
   "pygments_lexer": "ipython3",
   "version": "3.12.0"
  }
 },
 "nbformat": 4,
 "nbformat_minor": 2
}
