{
 "cells": [
  {
   "cell_type": "code",
   "execution_count": 3,
   "metadata": {},
   "outputs": [],
   "source": [
    "from sigma_dist import Sigma_Star\n",
    "import numpy as np"
   ]
  },
  {
   "cell_type": "markdown",
   "metadata": {},
   "source": [
    "## First Moment"
   ]
  },
  {
   "cell_type": "code",
   "execution_count": 10,
   "metadata": {},
   "outputs": [
    {
     "data": {
      "text/plain": [
       "array([[ 5.05, -1.1 ],\n",
       "       [-1.1 ,  1.85]])"
      ]
     },
     "execution_count": 10,
     "metadata": {},
     "output_type": "execute_result"
    }
   ],
   "source": [
    "s = Sigma_Star(0, 3)\n",
    "s.scale = np.array([[10.1, -2.2], [-2.2, 3.7]])\n",
    "s.dim = 2\n",
    "s.dof = 5\n",
    "\n",
    "s.first_mom()"
   ]
  },
  {
   "cell_type": "code",
   "execution_count": 8,
   "metadata": {},
   "outputs": [
    {
     "name": "stdout",
     "output_type": "stream",
     "text": [
      "Mean of the Inverse Wishart distribution:\n",
      " [[ 5.05 -1.1 ]\n",
      " [-1.1   1.85]]\n"
     ]
    }
   ],
   "source": [
    "def inverse_wishart_mean(scale_matrix, degrees_of_freedom):\n",
    "    \"\"\"\n",
    "    Calculate the mean of an Inverse Wishart distribution if it is defined.\n",
    "\n",
    "    Parameters:\n",
    "    scale_matrix (numpy.ndarray): The scale matrix (Psi).\n",
    "    degrees_of_freedom (float): The degrees of freedom (nu).\n",
    "\n",
    "    Returns:\n",
    "    numpy.ndarray: The mean of the Inverse Wishart distribution.\n",
    "    \"\"\"\n",
    "    p = scale_matrix.shape[0]\n",
    "    if degrees_of_freedom <= p + 1:\n",
    "        raise ValueError(\"Degrees of freedom must be greater than the dimension of the scale matrix plus one.\")\n",
    "    \n",
    "    mean = scale_matrix / (degrees_of_freedom - p - 1)\n",
    "    return mean\n",
    "\n",
    "# Example usage:\n",
    "scale_matrix = np.array([[10.1, -2.2], [-2.2, 3.7]])\n",
    "degrees_of_freedom = 5\n",
    "\n",
    "mean = inverse_wishart_mean(scale_matrix, degrees_of_freedom)\n",
    "print(\"Mean of the Inverse Wishart distribution:\\n\", mean)"
   ]
  },
  {
   "cell_type": "code",
   "execution_count": 9,
   "metadata": {},
   "outputs": [
    {
     "name": "stdout",
     "output_type": "stream",
     "text": [
      "Approximated second moment of the Inverse Wishart distribution:\n",
      " [[1.39012045 1.13890668]\n",
      " [1.13890668 4.5772263 ]]\n"
     ]
    }
   ],
   "source": [
    "import numpy as np\n",
    "from scipy.stats import invwishart\n",
    "\n",
    "def monte_carlo_inverse_wishart_second_moment(scale_matrix, degrees_of_freedom, num_samples=10000):\n",
    "    \"\"\"\n",
    "    Approximate the second moment of an Inverse Wishart distribution using a Monte Carlo algorithm.\n",
    "\n",
    "    Parameters:\n",
    "    scale_matrix (numpy.ndarray): The scale matrix (Psi).\n",
    "    degrees_of_freedom (float): The degrees of freedom (nu).\n",
    "    num_samples (int): The number of samples to generate.\n",
    "\n",
    "    Returns:\n",
    "    numpy.ndarray: The approximated second moment of the Inverse Wishart distribution.\n",
    "    \"\"\"\n",
    "    p = scale_matrix.shape[0]\n",
    "    samples = invwishart.rvs(df=degrees_of_freedom, scale=scale_matrix, size=num_samples)\n",
    "\n",
    "    # Initialize the accumulator for the second moment\n",
    "    second_moment_accumulator = np.zeros((p, p))\n",
    "\n",
    "    # Sum the second moments of the samples\n",
    "    for sample in samples:\n",
    "        second_moment_accumulator += np.dot(sample, sample)\n",
    "\n",
    "    # Compute the average second moment\n",
    "    second_moment = second_moment_accumulator / num_samples\n",
    "\n",
    "    return second_moment\n",
    "\n",
    "# Example usage:\n",
    "scale_matrix = np.array([[1, 0.5], [0.5, 2]])\n",
    "degrees_of_freedom = 5\n",
    "\n",
    "second_moment = monte_carlo_inverse_wishart_second_moment(scale_matrix, degrees_of_freedom)\n",
    "print(\"Approximated second moment of the Inverse Wishart distribution:\\n\", second_moment)\n"
   ]
  },
  {
   "cell_type": "markdown",
   "metadata": {},
   "source": [
    "## Second Moment"
   ]
  },
  {
   "cell_type": "code",
   "execution_count": 21,
   "metadata": {},
   "outputs": [
    {
     "name": "stdout",
     "output_type": "stream",
     "text": [
      "==>> mc_second_mom: [[ 0.37384985 -0.00486018]\n",
      " [-0.00486018  0.38606665]]\n",
      "==>> s.second_mom(): [[0.41666667 0.        ]\n",
      " [0.         0.41666667]]\n"
     ]
    }
   ],
   "source": [
    "s_mat = np.array([[1.0, 0.0], [0.0, 1.0]])\n",
    "dof = 6\n",
    "\n",
    "mc_second_mom = monte_carlo_inverse_wishart_second_moment(s_mat, dof, num_samples=1000000)\n",
    "print(f\"==>> mc_second_mom: {mc_second_mom}\")\n",
    "\n",
    "s = Sigma_Star(0, 3)\n",
    "s.scale = s_mat\n",
    "s.dof = dof\n",
    "\n",
    "print(f\"==>> s.second_mom(): {s.second_mom()}\")\n",
    "\n"
   ]
  },
  {
   "cell_type": "code",
   "execution_count": 33,
   "metadata": {},
   "outputs": [
    {
     "name": "stdout",
     "output_type": "stream",
     "text": [
      "Second moment of the Inverse Gamma distribution with alpha=50.5 and beta=0.5: 0.00010413412475268145\n"
     ]
    }
   ],
   "source": [
    "import numpy as np\n",
    "from scipy.stats import invgamma\n",
    "from scipy.special import gamma\n",
    "\n",
    "dof = 101\n",
    "\n",
    "def inverse_gamma_second_moment(alpha, beta):\n",
    "    if alpha <= 2:\n",
    "        raise ValueError(\"The shape parameter alpha must be greater than 2 for the second moment to exist.\")\n",
    "    \n",
    "    second_moment = (beta**2) * (gamma(alpha - 2) / gamma(alpha))\n",
    "    return second_moment\n",
    "\n",
    "# Example usage:\n",
    "alpha = dof/2\n",
    "beta = 0.5\n",
    "\n",
    "second_moment = inverse_gamma_second_moment(alpha, beta)\n",
    "print(f\"Second moment of the Inverse Gamma distribution with alpha={alpha} and beta={beta}: {second_moment}\")\n"
   ]
  },
  {
   "cell_type": "code",
   "execution_count": 34,
   "metadata": {},
   "outputs": [
    {
     "name": "stdout",
     "output_type": "stream",
     "text": [
      "==>> s.second_mom(): [[0.00010413]]\n"
     ]
    }
   ],
   "source": [
    "s = Sigma_Star(0, 2)\n",
    "s.scale = np.array([[1]])\n",
    "s.dof = dof\n",
    "\n",
    "print(f\"==>> s.second_mom(): {s.second_mom()}\")"
   ]
  },
  {
   "cell_type": "code",
   "execution_count": null,
   "metadata": {},
   "outputs": [],
   "source": []
  }
 ],
 "metadata": {
  "kernelspec": {
   "display_name": "vi_venv",
   "language": "python",
   "name": "python3"
  },
  "language_info": {
   "codemirror_mode": {
    "name": "ipython",
    "version": 3
   },
   "file_extension": ".py",
   "mimetype": "text/x-python",
   "name": "python",
   "nbconvert_exporter": "python",
   "pygments_lexer": "ipython3",
   "version": "3.12.0"
  }
 },
 "nbformat": 4,
 "nbformat_minor": 2
}
